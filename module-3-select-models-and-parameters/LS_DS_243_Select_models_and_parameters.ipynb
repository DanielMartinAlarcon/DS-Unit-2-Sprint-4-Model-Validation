{
 "cells": [
  {
   "cell_type": "markdown",
   "metadata": {
    "colab_type": "text",
    "id": "O67uhlT4MExK"
   },
   "source": [
    "_Lambda School Data Science — Model Validation_\n",
    "\n",
    "# Select models and parameters\n",
    "\n",
    "Objectives\n",
    "- Hyperparameter optimization\n",
    "- Model selection"
   ]
  },
  {
   "cell_type": "markdown",
   "metadata": {
    "colab_type": "text",
    "id": "VE4rfZd4NUGA"
   },
   "source": [
    "Today we'll use this process:\n",
    "\n",
    "## \"A universal workflow of machine learning\"\n",
    "\n",
    "_Excerpt from Francois Chollet, [Deep Learning with Python](https://github.com/fchollet/deep-learning-with-python-notebooks/blob/master/README.md), Chapter 4: Fundamentals of machine learning_\n",
    " \n",
    "**1. Define the problem at hand and the data on which you’ll train.** Collect this data, or annotate it with labels if need be.\n",
    "\n",
    "**2. Choose how you’ll measure success on your problem.** Which metrics will you monitor on your validation data?\n",
    "\n",
    "**3. Determine your evaluation protocol:** hold-out validation? K-fold validation? Which portion of the data should you use for validation?\n",
    "\n",
    "**4. Develop a first model that does better than a basic baseline:** a model with statistical power.\n",
    "\n",
    "**5. Develop a model that overfits.** The universal tension in machine learning is between optimization and generalization; the ideal model is one that stands right at the border between underfitting and overfitting; between undercapacity and overcapacity. To figure out where this border lies, first you must cross it.\n",
    "\n",
    "**6. Regularize your model and tune its hyperparameters, based on performance on the validation data.** Repeatedly modify your model, train it, evaluate on your validation data (not the test data, at this point), modify it again, and repeat, until the model is as good as it can get. \n",
    "\n",
    "Iterate on feature engineering: add new features, or remove features that don’t seem to be informative. Once you’ve developed a satisfactory model configuration, you can train your final production model on all the available data (training and validation) and evaluate it one last time on the test set.\n"
   ]
  },
  {
   "cell_type": "markdown",
   "metadata": {
    "colab_type": "text",
    "id": "3kt6bzEcOIaa"
   },
   "source": [
    "## 1. Define the problem at hand and the data on which you'll train"
   ]
  },
  {
   "cell_type": "markdown",
   "metadata": {
    "colab_type": "text",
    "id": "di16k7vpRg67"
   },
   "source": [
    "We'll apply the workflow to a [project from _Python Data Science Handbook_](https://jakevdp.github.io/PythonDataScienceHandbook/05.06-linear-regression.html#Example:-Predicting-Bicycle-Traffic) by Jake VanderPlas:\n",
    "\n",
    "> **Predicting Bicycle Traffic**\n",
    "\n",
    "> As an example, let's take a look at whether we can predict the number of bicycle trips across Seattle's Fremont Bridge based on weather, season, and other factors.\n",
    "\n",
    "> We will join the bike data with another dataset, and try to determine the extent to which weather and seasonal factors—temperature, precipitation, and daylight hours—affect the volume of bicycle traffic through this corridor. Fortunately, the NOAA makes available their daily [weather station data](http://www.ncdc.noaa.gov/cdo-web/search?datasetid=GHCND) (I used station ID USW00024233) and we can easily use Pandas to join the two data sources.\n",
    "\n",
    "> Let's start by loading the two datasets, indexing by date:"
   ]
  },
  {
   "cell_type": "markdown",
   "metadata": {
    "colab_type": "text",
    "id": "19dpb_d0R1A6"
   },
   "source": [
    "So this is a regression problem, not a classification problem. We'll define the target, choose an evaluation metric, and choose models that are appropriate for regression problems.\n",
    "\n",
    "\n"
   ]
  },
  {
   "cell_type": "markdown",
   "metadata": {
    "colab_type": "text",
    "id": "9GYm74kD34OQ"
   },
   "source": [
    "### Load data"
   ]
  },
  {
   "cell_type": "code",
   "execution_count": 1,
   "metadata": {
    "colab": {},
    "colab_type": "code",
    "id": "BfQ7gE28MNdF"
   },
   "outputs": [],
   "source": [
    "# Modified from cells 15, 16, and 20, at\n",
    "# https://jakevdp.github.io/PythonDataScienceHandbook/05.06-linear-regression.html#Example:-Predicting-Bicycle-Traffic\n",
    "\n",
    "import pandas as pd\n",
    "\n",
    "counts = pd.read_csv('FremontBridge.csv', index_col='Date', parse_dates=True, \n",
    "                     infer_datetime_format=True)\n",
    "\n",
    "weather = pd.read_csv('BicycleWeather.csv', index_col='DATE', parse_dates=True, \n",
    "                      infer_datetime_format=False)\n",
    "\n",
    "daily = counts.resample('d').sum()\n",
    "daily['Total'] = daily.sum(axis=1)\n",
    "daily = daily[['Total']] # remove other columns\n",
    "\n",
    "weather_columns = ['PRCP', 'SNOW', 'SNWD', 'TMAX', 'TMIN', 'AWND']\n",
    "daily = daily.join(weather[weather_columns], how='inner')"
   ]
  },
  {
   "cell_type": "code",
   "execution_count": 2,
   "metadata": {
    "colab": {},
    "colab_type": "code",
    "id": "i0YYD6rvypb4"
   },
   "outputs": [],
   "source": [
    "# Make a feature for yesterday's total\n",
    "daily['Total_yesterday'] = daily.Total.shift(1)\n",
    "\n",
    "daily = daily.drop(index=daily.index[0])"
   ]
  },
  {
   "cell_type": "markdown",
   "metadata": {
    "colab_type": "text",
    "id": "VVB3g4704An5"
   },
   "source": [
    "### First fast look at the data\n",
    "- What's the shape?\n",
    "- What's the date range?\n",
    "- What's the target and the features?"
   ]
  },
  {
   "cell_type": "code",
   "execution_count": 3,
   "metadata": {
    "colab": {},
    "colab_type": "code",
    "id": "t50E2fTUWBBU"
   },
   "outputs": [
    {
     "data": {
      "text/plain": [
       "(1063, 8)"
      ]
     },
     "execution_count": 3,
     "metadata": {},
     "output_type": "execute_result"
    }
   ],
   "source": [
    "daily.shape"
   ]
  },
  {
   "cell_type": "code",
   "execution_count": 4,
   "metadata": {},
   "outputs": [
    {
     "data": {
      "text/html": [
       "<div>\n",
       "<style scoped>\n",
       "    .dataframe tbody tr th:only-of-type {\n",
       "        vertical-align: middle;\n",
       "    }\n",
       "\n",
       "    .dataframe tbody tr th {\n",
       "        vertical-align: top;\n",
       "    }\n",
       "\n",
       "    .dataframe thead th {\n",
       "        text-align: right;\n",
       "    }\n",
       "</style>\n",
       "<table border=\"1\" class=\"dataframe\">\n",
       "  <thead>\n",
       "    <tr style=\"text-align: right;\">\n",
       "      <th></th>\n",
       "      <th>Total</th>\n",
       "      <th>PRCP</th>\n",
       "      <th>SNOW</th>\n",
       "      <th>SNWD</th>\n",
       "      <th>TMAX</th>\n",
       "      <th>TMIN</th>\n",
       "      <th>AWND</th>\n",
       "      <th>Total_yesterday</th>\n",
       "    </tr>\n",
       "  </thead>\n",
       "  <tbody>\n",
       "    <tr>\n",
       "      <th>2012-10-04</th>\n",
       "      <td>3475.0</td>\n",
       "      <td>0</td>\n",
       "      <td>0</td>\n",
       "      <td>0</td>\n",
       "      <td>189</td>\n",
       "      <td>83</td>\n",
       "      <td>65</td>\n",
       "      <td>3521.0</td>\n",
       "    </tr>\n",
       "    <tr>\n",
       "      <th>2012-10-05</th>\n",
       "      <td>3148.0</td>\n",
       "      <td>0</td>\n",
       "      <td>0</td>\n",
       "      <td>0</td>\n",
       "      <td>217</td>\n",
       "      <td>89</td>\n",
       "      <td>57</td>\n",
       "      <td>3475.0</td>\n",
       "    </tr>\n",
       "    <tr>\n",
       "      <th>2012-10-06</th>\n",
       "      <td>2006.0</td>\n",
       "      <td>0</td>\n",
       "      <td>0</td>\n",
       "      <td>0</td>\n",
       "      <td>239</td>\n",
       "      <td>78</td>\n",
       "      <td>51</td>\n",
       "      <td>3148.0</td>\n",
       "    </tr>\n",
       "    <tr>\n",
       "      <th>2012-10-07</th>\n",
       "      <td>2142.0</td>\n",
       "      <td>0</td>\n",
       "      <td>0</td>\n",
       "      <td>0</td>\n",
       "      <td>239</td>\n",
       "      <td>78</td>\n",
       "      <td>13</td>\n",
       "      <td>2006.0</td>\n",
       "    </tr>\n",
       "    <tr>\n",
       "      <th>2012-10-08</th>\n",
       "      <td>3537.0</td>\n",
       "      <td>0</td>\n",
       "      <td>0</td>\n",
       "      <td>0</td>\n",
       "      <td>211</td>\n",
       "      <td>78</td>\n",
       "      <td>19</td>\n",
       "      <td>2142.0</td>\n",
       "    </tr>\n",
       "  </tbody>\n",
       "</table>\n",
       "</div>"
      ],
      "text/plain": [
       "             Total  PRCP  SNOW  SNWD  TMAX  TMIN  AWND  Total_yesterday\n",
       "2012-10-04  3475.0     0     0     0   189    83    65           3521.0\n",
       "2012-10-05  3148.0     0     0     0   217    89    57           3475.0\n",
       "2012-10-06  2006.0     0     0     0   239    78    51           3148.0\n",
       "2012-10-07  2142.0     0     0     0   239    78    13           2006.0\n",
       "2012-10-08  3537.0     0     0     0   211    78    19           2142.0"
      ]
     },
     "execution_count": 4,
     "metadata": {},
     "output_type": "execute_result"
    }
   ],
   "source": [
    "daily.head()"
   ]
  },
  {
   "cell_type": "markdown",
   "metadata": {
    "colab_type": "text",
    "id": "XgMvCsaWJR7Q"
   },
   "source": [
    "Target\n",
    "- Total : Daily total number of bicycle trips across Seattle's Fremont Bridge\n",
    "\n",
    "Features\n",
    "- Date (index) : from 2012-10-04 to 2015-09-01\n",
    "- Total_yesterday : Total trips yesterday\n",
    "- PRCP : Precipitation (1/10 mm)\n",
    "- SNOW : Snowfall (1/10 mm)\n",
    "- SNWD : Snow depth (1/10 mm)\n",
    "- TMAX : Maximum temperature (1/10 Celsius)\n",
    "- TMIN : Minimum temperature (1/10 Celsius)\n",
    "- AWND : Average daily wind speed (1/10 meters per second)"
   ]
  },
  {
   "cell_type": "markdown",
   "metadata": {
    "colab_type": "text",
    "id": "lenL-przSYCo"
   },
   "source": [
    "## 2. Choose how you’ll measure success on your problem.\n",
    "\n",
    "Which metrics will you monitor on your validation data?\n",
    "\n",
    "This is a regression problem, so we need to choose a regression [metric](https://scikit-learn.org/stable/modules/model_evaluation.html#common-cases-predefined-values).\n",
    "\n",
    "\n",
    "\n",
    "I'll choose mean absolute error.\n",
    "\n"
   ]
  },
  {
   "cell_type": "code",
   "execution_count": 9,
   "metadata": {
    "colab": {},
    "colab_type": "code",
    "id": "1TqbomapSyRP"
   },
   "outputs": [],
   "source": [
    "from sklearn.metrics import mean_absolute_error"
   ]
  },
  {
   "cell_type": "markdown",
   "metadata": {
    "colab_type": "text",
    "id": "IRHrB3rsS5hF"
   },
   "source": [
    "## 3. Determine your evaluation protocol \n",
    "\n",
    "We're doing model selection, hyperparameter optimization, and performance estimation. So generally we have two ideal [options](https://sebastianraschka.com/images/blog/2018/model-evaluation-selection-part4/model-eval-conclusions.jpg) to choose from:\n",
    "\n",
    "- 3-way holdout method (train/validation/test split)\n",
    "- Cross-validation with independent test set\n",
    "\n",
    "I'll choose cross-validation with independent test set. Scikit-learn makes cross-validation convenient for us!\n",
    "\n",
    "Specifically, I will use random shuffled cross validation to train and validate, but I will hold out an \"out-of-time\" test set, from the last 100 days of data:\n",
    "\n",
    "\n",
    "\n"
   ]
  },
  {
   "cell_type": "code",
   "execution_count": 11,
   "metadata": {
    "colab": {},
    "colab_type": "code",
    "id": "A3xo6HgbPMFm"
   },
   "outputs": [],
   "source": [
    "train = daily[:-100]\n",
    "test = daily[-100:]"
   ]
  },
  {
   "cell_type": "code",
   "execution_count": 13,
   "metadata": {},
   "outputs": [
    {
     "data": {
      "text/plain": [
       "((963, 7), (963,), (100, 7), (100,))"
      ]
     },
     "execution_count": 13,
     "metadata": {},
     "output_type": "execute_result"
    }
   ],
   "source": [
    "X_train = train.drop(columns='Total')\n",
    "y_train = train['Total']\n",
    "\n",
    "X_test = test.drop(columns='Total')\n",
    "y_test = test['Total']\n",
    "\n",
    "X_train.shape, y_train.shape, X_test.shape, y_test.shape"
   ]
  },
  {
   "cell_type": "code",
   "execution_count": 23,
   "metadata": {},
   "outputs": [
    {
     "data": {
      "text/html": [
       "<div>\n",
       "<style scoped>\n",
       "    .dataframe tbody tr th:only-of-type {\n",
       "        vertical-align: middle;\n",
       "    }\n",
       "\n",
       "    .dataframe tbody tr th {\n",
       "        vertical-align: top;\n",
       "    }\n",
       "\n",
       "    .dataframe thead th {\n",
       "        text-align: right;\n",
       "    }\n",
       "</style>\n",
       "<table border=\"1\" class=\"dataframe\">\n",
       "  <thead>\n",
       "    <tr style=\"text-align: right;\">\n",
       "      <th></th>\n",
       "      <th>PRCP</th>\n",
       "      <th>SNOW</th>\n",
       "      <th>SNWD</th>\n",
       "      <th>TMAX</th>\n",
       "      <th>TMIN</th>\n",
       "      <th>AWND</th>\n",
       "      <th>Total_yesterday</th>\n",
       "    </tr>\n",
       "  </thead>\n",
       "  <tbody>\n",
       "    <tr>\n",
       "      <th>2012-10-04</th>\n",
       "      <td>0</td>\n",
       "      <td>0</td>\n",
       "      <td>0</td>\n",
       "      <td>189</td>\n",
       "      <td>83</td>\n",
       "      <td>65</td>\n",
       "      <td>3521.0</td>\n",
       "    </tr>\n",
       "    <tr>\n",
       "      <th>2012-10-05</th>\n",
       "      <td>0</td>\n",
       "      <td>0</td>\n",
       "      <td>0</td>\n",
       "      <td>217</td>\n",
       "      <td>89</td>\n",
       "      <td>57</td>\n",
       "      <td>3475.0</td>\n",
       "    </tr>\n",
       "    <tr>\n",
       "      <th>2012-10-06</th>\n",
       "      <td>0</td>\n",
       "      <td>0</td>\n",
       "      <td>0</td>\n",
       "      <td>239</td>\n",
       "      <td>78</td>\n",
       "      <td>51</td>\n",
       "      <td>3148.0</td>\n",
       "    </tr>\n",
       "    <tr>\n",
       "      <th>2012-10-07</th>\n",
       "      <td>0</td>\n",
       "      <td>0</td>\n",
       "      <td>0</td>\n",
       "      <td>239</td>\n",
       "      <td>78</td>\n",
       "      <td>13</td>\n",
       "      <td>2006.0</td>\n",
       "    </tr>\n",
       "    <tr>\n",
       "      <th>2012-10-08</th>\n",
       "      <td>0</td>\n",
       "      <td>0</td>\n",
       "      <td>0</td>\n",
       "      <td>211</td>\n",
       "      <td>78</td>\n",
       "      <td>19</td>\n",
       "      <td>2142.0</td>\n",
       "    </tr>\n",
       "  </tbody>\n",
       "</table>\n",
       "</div>"
      ],
      "text/plain": [
       "            PRCP  SNOW  SNWD  TMAX  TMIN  AWND  Total_yesterday\n",
       "2012-10-04     0     0     0   189    83    65           3521.0\n",
       "2012-10-05     0     0     0   217    89    57           3475.0\n",
       "2012-10-06     0     0     0   239    78    51           3148.0\n",
       "2012-10-07     0     0     0   239    78    13           2006.0\n",
       "2012-10-08     0     0     0   211    78    19           2142.0"
      ]
     },
     "execution_count": 23,
     "metadata": {},
     "output_type": "execute_result"
    }
   ],
   "source": [
    "X_train.head()"
   ]
  },
  {
   "cell_type": "markdown",
   "metadata": {
    "colab_type": "text",
    "id": "vH6IsORQTvTU"
   },
   "source": [
    "## 4. Develop a first model that does better than a basic baseline"
   ]
  },
  {
   "cell_type": "markdown",
   "metadata": {
    "colab_type": "text",
    "id": "DJBs2nQkj7oB"
   },
   "source": [
    "### Look at the target's distribution and descriptive stats"
   ]
  },
  {
   "cell_type": "code",
   "execution_count": 17,
   "metadata": {
    "colab": {},
    "colab_type": "code",
    "id": "P5peakv9Zs71"
   },
   "outputs": [
    {
     "data": {
      "image/png": "[encoded data removed]",
      "text/plain": [
       "<Figure size 432x288 with 1 Axes>"
      ]
     },
     "metadata": {
      "needs_background": "light"
     },
     "output_type": "display_data"
    }
   ],
   "source": [
    "import seaborn as sns\n",
    "sns.distplot(y_train);"
   ]
  },
  {
   "cell_type": "code",
   "execution_count": 19,
   "metadata": {},
   "outputs": [
    {
     "data": {
      "text/plain": [
       "count     963.000000\n",
       "mean     2534.329180\n",
       "std      1224.065027\n",
       "min        98.000000\n",
       "25%      1755.000000\n",
       "50%      2381.000000\n",
       "75%      3317.500000\n",
       "max      6088.000000\n",
       "Name: Total, dtype: float64"
      ]
     },
     "execution_count": 19,
     "metadata": {},
     "output_type": "execute_result"
    }
   ],
   "source": [
    "y_train.describe()"
   ]
  },
  {
   "cell_type": "markdown",
   "metadata": {
    "colab_type": "text",
    "id": "fEjxxgV9kExY"
   },
   "source": [
    "### Basic baseline 1"
   ]
  },
  {
   "cell_type": "code",
   "execution_count": 22,
   "metadata": {
    "colab": {},
    "colab_type": "code",
    "id": "6GepKdQjYcEP"
   },
   "outputs": [
    {
     "data": {
      "text/plain": [
       "980.8981106765484"
      ]
     },
     "execution_count": 22,
     "metadata": {},
     "output_type": "execute_result"
    }
   ],
   "source": [
    "import numpy as np\n",
    "y_pred = np.full(y_train.shape, y_train.mean())\n",
    "mean_absolute_error(y_train, y_pred)"
   ]
  },
  {
   "cell_type": "markdown",
   "metadata": {
    "colab_type": "text",
    "id": "tN2I_F3FkIHb"
   },
   "source": [
    "### Basic baseline 2\n",
    "Let's just assume the same weather as yesterday"
   ]
  },
  {
   "cell_type": "code",
   "execution_count": 24,
   "metadata": {
    "colab": {},
    "colab_type": "code",
    "id": "ZW8bhZFtTunV"
   },
   "outputs": [
    {
     "data": {
      "text/plain": [
       "708.061266874351"
      ]
     },
     "execution_count": 24,
     "metadata": {},
     "output_type": "execute_result"
    }
   ],
   "source": [
    "y_pred = X_train.Total_yesterday\n",
    "mean_absolute_error(y_train, y_pred)"
   ]
  },
  {
   "cell_type": "markdown",
   "metadata": {
    "colab_type": "text",
    "id": "Ggf3VpxwkJ0T"
   },
   "source": [
    "### First model that does better than a basic baseline"
   ]
  },
  {
   "cell_type": "markdown",
   "metadata": {
    "colab_type": "text",
    "id": "KfaqL1Ezer2-"
   },
   "source": [
    "https://scikit-learn.org/stable/modules/generated/sklearn.model_selection.cross_validate.html"
   ]
  },
  {
   "cell_type": "code",
   "execution_count": 29,
   "metadata": {
    "colab": {},
    "colab_type": "code",
    "id": "OeBtU68skfW-"
   },
   "outputs": [
    {
     "data": {
      "text/html": [
       "<div>\n",
       "<style scoped>\n",
       "    .dataframe tbody tr th:only-of-type {\n",
       "        vertical-align: middle;\n",
       "    }\n",
       "\n",
       "    .dataframe tbody tr th {\n",
       "        vertical-align: top;\n",
       "    }\n",
       "\n",
       "    .dataframe thead th {\n",
       "        text-align: right;\n",
       "    }\n",
       "</style>\n",
       "<table border=\"1\" class=\"dataframe\">\n",
       "  <thead>\n",
       "    <tr style=\"text-align: right;\">\n",
       "      <th></th>\n",
       "      <th>fit_time</th>\n",
       "      <th>score_time</th>\n",
       "      <th>estimator</th>\n",
       "      <th>val_score</th>\n",
       "      <th>train_score</th>\n",
       "    </tr>\n",
       "  </thead>\n",
       "  <tbody>\n",
       "    <tr>\n",
       "      <th>0</th>\n",
       "      <td>0.006146</td>\n",
       "      <td>0.002572</td>\n",
       "      <td>LinearRegression(copy_X=True, fit_intercept=Tr...</td>\n",
       "      <td>-555.186275</td>\n",
       "      <td>-619.509206</td>\n",
       "    </tr>\n",
       "    <tr>\n",
       "      <th>1</th>\n",
       "      <td>0.004199</td>\n",
       "      <td>0.001707</td>\n",
       "      <td>LinearRegression(copy_X=True, fit_intercept=Tr...</td>\n",
       "      <td>-651.126513</td>\n",
       "      <td>-583.427702</td>\n",
       "    </tr>\n",
       "    <tr>\n",
       "      <th>2</th>\n",
       "      <td>0.004158</td>\n",
       "      <td>0.001991</td>\n",
       "      <td>LinearRegression(copy_X=True, fit_intercept=Tr...</td>\n",
       "      <td>-615.965800</td>\n",
       "      <td>-589.341301</td>\n",
       "    </tr>\n",
       "  </tbody>\n",
       "</table>\n",
       "</div>"
      ],
      "text/plain": [
       "   fit_time  score_time                                          estimator  \\\n",
       "0  0.006146    0.002572  LinearRegression(copy_X=True, fit_intercept=Tr...   \n",
       "1  0.004199    0.001707  LinearRegression(copy_X=True, fit_intercept=Tr...   \n",
       "2  0.004158    0.001991  LinearRegression(copy_X=True, fit_intercept=Tr...   \n",
       "\n",
       "    val_score  train_score  \n",
       "0 -555.186275  -619.509206  \n",
       "1 -651.126513  -583.427702  \n",
       "2 -615.965800  -589.341301  "
      ]
     },
     "execution_count": 29,
     "metadata": {},
     "output_type": "execute_result"
    }
   ],
   "source": [
    "from sklearn.linear_model import LinearRegression\n",
    "from sklearn.model_selection import cross_validate\n",
    "\n",
    "scores = cross_validate(LinearRegression(), X_train, y_train,\n",
    "                       scoring='neg_mean_absolute_error', cv=3,\n",
    "                       return_train_score=True, \n",
    "                       return_estimator=True)\n",
    "\n",
    "# Renaming the internal parameters to our nomenclature,\n",
    "# and casting as a dataframe for easier visualization\n",
    "pd.DataFrame(scores).rename(columns={'test_score':'val_score'})"
   ]
  },
  {
   "cell_type": "code",
   "execution_count": 30,
   "metadata": {},
   "outputs": [
    {
     "data": {
      "text/plain": [
       "{'fit_time': array([0.00614595, 0.00419879, 0.00415802]),\n",
       " 'score_time': array([0.00257206, 0.00170708, 0.00199127]),\n",
       " 'estimator': (LinearRegression(copy_X=True, fit_intercept=True, n_jobs=None,\n",
       "           normalize=False),\n",
       "  LinearRegression(copy_X=True, fit_intercept=True, n_jobs=None,\n",
       "           normalize=False),\n",
       "  LinearRegression(copy_X=True, fit_intercept=True, n_jobs=None,\n",
       "           normalize=False)),\n",
       " 'test_score': array([-555.18627454, -651.12651327, -615.96579978]),\n",
       " 'train_score': array([-619.50920623, -583.42770209, -589.3413007 ])}"
      ]
     },
     "execution_count": 30,
     "metadata": {},
     "output_type": "execute_result"
    }
   ],
   "source": [
    "# Note that the 'estimator' entry in the output is the actual model\n",
    "# object, fit to the data and ready for querying.\n",
    "scores"
   ]
  },
  {
   "cell_type": "code",
   "execution_count": 32,
   "metadata": {},
   "outputs": [
    {
     "data": {
      "text/plain": [
       "-607.4261958631805"
      ]
     },
     "execution_count": 32,
     "metadata": {},
     "output_type": "execute_result"
    }
   ],
   "source": [
    "# Significantly better than qust guessing yesterday's weather\n",
    "scores['test_score'].mean()"
   ]
  },
  {
   "cell_type": "code",
   "execution_count": 36,
   "metadata": {},
   "outputs": [
    {
     "name": "stdout",
     "output_type": "stream",
     "text": [
      "Model from cross validation fold #0\n",
      "Intercept: 566.7766337283692\n",
      "PRCP                -3.5251030638730323\n",
      "SNOW                -0.0820286596945395\n",
      "SNWD                -12.045027424625347\n",
      "TMAX                9.475237800217549\n",
      "TMIN                -4.6077746025385755\n",
      "AWND                -2.74519066205123\n",
      "Total_yesterday     0.4173602229456304\n",
      "\n",
      "Model from cross validation fold #1\n",
      "Intercept: 671.9064515706045\n",
      "PRCP                -2.7722529441910893\n",
      "SNOW                -0.0009947361806794965\n",
      "SNWD                20.800687633734636\n",
      "TMAX                8.804948207804252\n",
      "TMIN                -3.7413861191474598\n",
      "AWND                -6.108300188094694\n",
      "Total_yesterday     0.4050743112376638\n",
      "\n",
      "Model from cross validation fold #2\n",
      "Intercept: 465.84525362296336\n",
      "PRCP                -2.8761959151874668\n",
      "SNOW                -0.01643158633711839\n",
      "SNWD                -8.809695835488693\n",
      "TMAX                10.419441168835974\n",
      "TMIN                -5.862868464913562\n",
      "AWND                -2.3989913411104125\n",
      "Total_yesterday     0.4234926564929123\n",
      "\n"
     ]
    }
   ],
   "source": [
    "for i, model in enumerate(scores['estimator']):\n",
    "    coefficients = model.coef_\n",
    "    intercept = model.intercept_\n",
    "    feature_names = X_train.columns\n",
    "    \n",
    "    print(f'Model from cross validation fold #{i}')\n",
    "    print(f'Intercept: {intercept}')\n",
    "    for name, coef in zip(feature_names, coefficients):\n",
    "        print(f'{name:20}{coef}')\n",
    "    print()"
   ]
  },
  {
   "cell_type": "code",
   "execution_count": 37,
   "metadata": {},
   "outputs": [
    {
     "name": "stdout",
     "output_type": "stream",
     "text": [
      "                            OLS Regression Results                            \n",
      "==============================================================================\n",
      "Dep. Variable:                  Total   R-squared:                       0.628\n",
      "Model:                            OLS   Adj. R-squared:                  0.625\n",
      "Method:                 Least Squares   F-statistic:                     230.2\n",
      "Date:                Wed, 30 Jan 2019   Prob (F-statistic):          4.80e-200\n",
      "Time:                        10:02:41   Log-Likelihood:                -7736.8\n",
      "No. Observations:                 963   AIC:                         1.549e+04\n",
      "Df Residuals:                     955   BIC:                         1.553e+04\n",
      "Df Model:                           7                                         \n",
      "Covariance Type:            nonrobust                                         \n",
      "===================================================================================\n",
      "                      coef    std err          t      P>|t|      [0.025      0.975]\n",
      "-----------------------------------------------------------------------------------\n",
      "const             571.7691     93.165      6.137      0.000     388.937     754.601\n",
      "PRCP               -3.0616      0.396     -7.726      0.000      -3.839      -2.284\n",
      "SNOW               -0.0271      0.038     -0.721      0.471      -0.101       0.047\n",
      "SNWD               -9.1379      8.974     -1.018      0.309     -26.748       8.472\n",
      "TMAX                9.4823      0.774     12.258      0.000       7.964      11.000\n",
      "TMIN               -4.6742      1.026     -4.555      0.000      -6.688      -2.660\n",
      "AWND               -3.7006      1.747     -2.119      0.034      -7.128      -0.273\n",
      "Total_yesterday     0.4165      0.025     16.460      0.000       0.367       0.466\n",
      "==============================================================================\n",
      "Omnibus:                        6.601   Durbin-Watson:                   1.571\n",
      "Prob(Omnibus):                  0.037   Jarque-Bera (JB):                6.648\n",
      "Skew:                          -0.187   Prob(JB):                       0.0360\n",
      "Kurtosis:                       2.841   Cond. No.                     1.09e+04\n",
      "==============================================================================\n",
      "\n",
      "Warnings:\n",
      "[1] Standard Errors assume that the covariance matrix of the errors is correctly specified.\n",
      "[2] The condition number is large, 1.09e+04. This might indicate that there are\n",
      "strong multicollinearity or other numerical problems.\n"
     ]
    },
    {
     "name": "stderr",
     "output_type": "stream",
     "text": [
      "/anaconda3/envs/sandbox/lib/python3.6/site-packages/numpy/core/fromnumeric.py:2223: FutureWarning: Method .ptp is deprecated and will be removed in a future version. Use numpy.ptp instead.\n",
      "  return ptp(axis=axis, out=out, **kwargs)\n"
     ]
    }
   ],
   "source": [
    "import statsmodels.api as sm\n",
    "model = sm.OLS(y_train, sm.add_constant(X_train))\n",
    "print(model.fit().summary())"
   ]
  },
  {
   "cell_type": "markdown",
   "metadata": {
    "colab_type": "text",
    "id": "fg1YI4X8n9nI"
   },
   "source": [
    "## 5. Develop a model that overfits. \n",
    "\n",
    "\"The universal tension in machine learning is between optimization and generalization; the ideal model is one that stands right at the border between underfitting and overfitting; between undercapacity and overcapacity. To figure out where this border lies, first you must cross it.\" —Chollet"
   ]
  },
  {
   "cell_type": "markdown",
   "metadata": {
    "colab_type": "text",
    "id": "lodd6UPOoy89"
   },
   "source": [
    "<img src=\"https://jakevdp.github.io/PythonDataScienceHandbook/figures/05.03-validation-curve.png\">\n",
    "\n",
    "Diagram source: https://jakevdp.github.io/PythonDataScienceHandbook/05.03-hyperparameters-and-model-validation.html#Validation-curves-in-Scikit-Learn"
   ]
  },
  {
   "cell_type": "markdown",
   "metadata": {
    "colab_type": "text",
    "id": "FrmQ3RM0w2JE"
   },
   "source": [
    "### Polynomial Regression?"
   ]
  },
  {
   "cell_type": "code",
   "execution_count": 38,
   "metadata": {
    "colab": {},
    "colab_type": "code",
    "id": "uctwo0X3pTw5"
   },
   "outputs": [],
   "source": [
    "# Copied from cell 10 at\n",
    "# https://jakevdp.github.io/PythonDataScienceHandbook/05.03-hyperparameters-and-model-validation.html#Validation-curves-in-Scikit-Learn\n",
    "\n",
    "from sklearn.preprocessing import PolynomialFeatures\n",
    "from sklearn.linear_model import LinearRegression\n",
    "from sklearn.pipeline import make_pipeline\n",
    "\n",
    "def PolynomialRegression(degree=2, **kwargs):\n",
    "    return make_pipeline(PolynomialFeatures(degree),\n",
    "                         LinearRegression(**kwargs))"
   ]
  },
  {
   "cell_type": "code",
   "execution_count": 39,
   "metadata": {
    "colab": {},
    "colab_type": "code",
    "id": "wvY4HOXVw7Mj"
   },
   "outputs": [
    {
     "name": "stdout",
     "output_type": "stream",
     "text": [
      "0 degree polynomial has 1 features\n",
      "['1']\n",
      "\n",
      "\n",
      "1 degree polynomial has 8 features\n",
      "['1', 'PRCP', 'SNOW', 'SNWD', 'TMAX', 'TMIN', 'AWND', 'Total_yesterday']\n",
      "\n",
      "\n",
      "2 degree polynomial has 36 features\n",
      "['1', 'PRCP', 'SNOW', 'SNWD', 'TMAX', 'TMIN', 'AWND', 'Total_yesterday', 'PRCP^2', 'PRCP SNOW', 'PRCP SNWD', 'PRCP TMAX', 'PRCP TMIN', 'PRCP AWND', 'PRCP Total_yesterday', 'SNOW^2', 'SNOW SNWD', 'SNOW TMAX', 'SNOW TMIN', 'SNOW AWND', 'SNOW Total_yesterday', 'SNWD^2', 'SNWD TMAX', 'SNWD TMIN', 'SNWD AWND', 'SNWD Total_yesterday', 'TMAX^2', 'TMAX TMIN', 'TMAX AWND', 'TMAX Total_yesterday', 'TMIN^2', 'TMIN AWND', 'TMIN Total_yesterday', 'AWND^2', 'AWND Total_yesterday', 'Total_yesterday^2']\n",
      "\n",
      "\n",
      "3 degree polynomial has 120 features\n",
      "['1', 'PRCP', 'SNOW', 'SNWD', 'TMAX', 'TMIN', 'AWND', 'Total_yesterday', 'PRCP^2', 'PRCP SNOW', 'PRCP SNWD', 'PRCP TMAX', 'PRCP TMIN', 'PRCP AWND', 'PRCP Total_yesterday', 'SNOW^2', 'SNOW SNWD', 'SNOW TMAX', 'SNOW TMIN', 'SNOW AWND', 'SNOW Total_yesterday', 'SNWD^2', 'SNWD TMAX', 'SNWD TMIN', 'SNWD AWND', 'SNWD Total_yesterday', 'TMAX^2', 'TMAX TMIN', 'TMAX AWND', 'TMAX Total_yesterday', 'TMIN^2', 'TMIN AWND', 'TMIN Total_yesterday', 'AWND^2', 'AWND Total_yesterday', 'Total_yesterday^2', 'PRCP^3', 'PRCP^2 SNOW', 'PRCP^2 SNWD', 'PRCP^2 TMAX', 'PRCP^2 TMIN', 'PRCP^2 AWND', 'PRCP^2 Total_yesterday', 'PRCP SNOW^2', 'PRCP SNOW SNWD', 'PRCP SNOW TMAX', 'PRCP SNOW TMIN', 'PRCP SNOW AWND', 'PRCP SNOW Total_yesterday', 'PRCP SNWD^2', 'PRCP SNWD TMAX', 'PRCP SNWD TMIN', 'PRCP SNWD AWND', 'PRCP SNWD Total_yesterday', 'PRCP TMAX^2', 'PRCP TMAX TMIN', 'PRCP TMAX AWND', 'PRCP TMAX Total_yesterday', 'PRCP TMIN^2', 'PRCP TMIN AWND', 'PRCP TMIN Total_yesterday', 'PRCP AWND^2', 'PRCP AWND Total_yesterday', 'PRCP Total_yesterday^2', 'SNOW^3', 'SNOW^2 SNWD', 'SNOW^2 TMAX', 'SNOW^2 TMIN', 'SNOW^2 AWND', 'SNOW^2 Total_yesterday', 'SNOW SNWD^2', 'SNOW SNWD TMAX', 'SNOW SNWD TMIN', 'SNOW SNWD AWND', 'SNOW SNWD Total_yesterday', 'SNOW TMAX^2', 'SNOW TMAX TMIN', 'SNOW TMAX AWND', 'SNOW TMAX Total_yesterday', 'SNOW TMIN^2', 'SNOW TMIN AWND', 'SNOW TMIN Total_yesterday', 'SNOW AWND^2', 'SNOW AWND Total_yesterday', 'SNOW Total_yesterday^2', 'SNWD^3', 'SNWD^2 TMAX', 'SNWD^2 TMIN', 'SNWD^2 AWND', 'SNWD^2 Total_yesterday', 'SNWD TMAX^2', 'SNWD TMAX TMIN', 'SNWD TMAX AWND', 'SNWD TMAX Total_yesterday', 'SNWD TMIN^2', 'SNWD TMIN AWND', 'SNWD TMIN Total_yesterday', 'SNWD AWND^2', 'SNWD AWND Total_yesterday', 'SNWD Total_yesterday^2', 'TMAX^3', 'TMAX^2 TMIN', 'TMAX^2 AWND', 'TMAX^2 Total_yesterday', 'TMAX TMIN^2', 'TMAX TMIN AWND', 'TMAX TMIN Total_yesterday', 'TMAX AWND^2', 'TMAX AWND Total_yesterday', 'TMAX Total_yesterday^2', 'TMIN^3', 'TMIN^2 AWND', 'TMIN^2 Total_yesterday', 'TMIN AWND^2', 'TMIN AWND Total_yesterday', 'TMIN Total_yesterday^2', 'AWND^3', 'AWND^2 Total_yesterday', 'AWND Total_yesterday^2', 'Total_yesterday^3']\n",
      "\n",
      "\n"
     ]
    }
   ],
   "source": [
    "for degree in [0, 1, 2, 3]:\n",
    "    features = PolynomialFeatures(degree).fit(X_train).get_feature_names(X_train.columns)\n",
    "    print(f'{degree} degree polynomial has {len(features)} features')\n",
    "    print(features)\n",
    "    print('\\n')"
   ]
  },
  {
   "cell_type": "markdown",
   "metadata": {
    "colab_type": "text",
    "id": "XEUdG9-ktHoa"
   },
   "source": [
    "### Validation curve (with Polynomial Regression)"
   ]
  },
  {
   "cell_type": "markdown",
   "metadata": {
    "colab_type": "text",
    "id": "_ryO1hVKr-6f"
   },
   "source": [
    "https://scikit-learn.org/stable/modules/generated/sklearn.model_selection.validation_curve.html\n",
    "\n",
    "> Validation curve. Determine training and test scores for varying parameter values. This is similar to grid search with one parameter."
   ]
  },
  {
   "cell_type": "code",
   "execution_count": 40,
   "metadata": {
    "colab": {},
    "colab_type": "code",
    "id": "znJgKqPcqBh-"
   },
   "outputs": [
    {
     "data": {
      "image/png": "[encoded data removed]",
      "text/plain": [
       "<Figure size 432x288 with 1 Axes>"
      ]
     },
     "metadata": {
      "needs_background": "light"
     },
     "output_type": "display_data"
    }
   ],
   "source": [
    "# Modified from cell 13 at\n",
    "# https://jakevdp.github.io/PythonDataScienceHandbook/05.03-hyperparameters-and-model-validation.html#Validation-curves-in-Scikit-Learn\n",
    "\n",
    "%matplotlib inline\n",
    "import matplotlib.pyplot as plt\n",
    "from sklearn.model_selection import validation_curve\n",
    "\n",
    "degree = [0, 1, 2]\n",
    "train_score, val_score = validation_curve(\n",
    "    PolynomialRegression(), X_train, y_train,\n",
    "    param_name='polynomialfeatures__degree', param_range=degree, \n",
    "    scoring='neg_mean_absolute_error', cv=3)\n",
    "\n",
    "plt.plot(degree, np.median(train_score, 1), color='blue', label='training score')\n",
    "plt.plot(degree, np.median(val_score, 1), color='red', label='validation score')\n",
    "plt.legend(loc='best')\n",
    "plt.xlabel('degree');"
   ]
  },
  {
   "cell_type": "markdown",
   "metadata": {
    "colab_type": "text",
    "id": "HUdGHWhvtVnV"
   },
   "source": [
    "### Grid Search (with Polynomial Regression)\n",
    "\n",
    "https://scikit-learn.org/stable/modules/generated/sklearn.model_selection.GridSearchCV.html\n",
    "\n",
    "https://scikit-learn.org/stable/modules/grid_search.html"
   ]
  },
  {
   "cell_type": "code",
   "execution_count": 41,
   "metadata": {
    "colab": {},
    "colab_type": "code",
    "id": "GziXyq8Is6dL"
   },
   "outputs": [
    {
     "name": "stdout",
     "output_type": "stream",
     "text": [
      "Fitting 3 folds for each of 4 candidates, totalling 12 fits\n",
      "[CV] polynomialfeatures__degree=0 ....................................\n",
      "[CV]  polynomialfeatures__degree=0, score=-1026.3529857047195, total=   0.0s\n",
      "[CV] polynomialfeatures__degree=0 ....................................\n",
      "[CV]  polynomialfeatures__degree=0, score=-1001.6149251268913, total=   0.0s\n",
      "[CV] polynomialfeatures__degree=0 ....................................\n",
      "[CV]  polynomialfeatures__degree=0, score=-927.0707048650538, total=   0.0s\n",
      "[CV] polynomialfeatures__degree=1 ....................................\n",
      "[CV]  polynomialfeatures__degree=1, score=-555.1862745374102, total=   0.0s\n",
      "[CV] polynomialfeatures__degree=1 ....................................\n",
      "[CV]  polynomialfeatures__degree=1, score=-651.1265132746228, total=   0.0s\n",
      "[CV] polynomialfeatures__degree=1 ....................................\n",
      "[CV]  polynomialfeatures__degree=1, score=-615.9657997775082, total=   0.0s\n",
      "[CV] polynomialfeatures__degree=2 ....................................\n",
      "[CV]  polynomialfeatures__degree=2, score=-7553.673677056523, total=   0.0s\n",
      "[CV] polynomialfeatures__degree=2 ....................................\n",
      "[CV]  polynomialfeatures__degree=2, score=-1439.191569727662, total=   0.0s\n",
      "[CV] polynomialfeatures__degree=2 ....................................\n",
      "[CV]  polynomialfeatures__degree=2, score=-644.1228335713251, total=   0.0s\n",
      "[CV] polynomialfeatures__degree=3 ....................................\n",
      "[CV]  polynomialfeatures__degree=3, score=-2658.143425819151, total=   0.0s\n",
      "[CV] polynomialfeatures__degree=3 ....................................\n",
      "[CV]  polynomialfeatures__degree=3, score=-97989.95505519485, total=   0.0s\n",
      "[CV] polynomialfeatures__degree=3 ....................................\n",
      "[CV]  polynomialfeatures__degree=3, score=-1847.8987410099292, total=   0.0s\n"
     ]
    },
    {
     "name": "stderr",
     "output_type": "stream",
     "text": [
      "[Parallel(n_jobs=1)]: Using backend SequentialBackend with 1 concurrent workers.\n",
      "[Parallel(n_jobs=1)]: Done   1 out of   1 | elapsed:    0.0s remaining:    0.0s\n",
      "[Parallel(n_jobs=1)]: Done   2 out of   2 | elapsed:    0.0s remaining:    0.0s\n",
      "[Parallel(n_jobs=1)]: Done   3 out of   3 | elapsed:    0.0s remaining:    0.0s\n",
      "[Parallel(n_jobs=1)]: Done   4 out of   4 | elapsed:    0.1s remaining:    0.0s\n",
      "[Parallel(n_jobs=1)]: Done   5 out of   5 | elapsed:    0.1s remaining:    0.0s\n",
      "[Parallel(n_jobs=1)]: Done   6 out of   6 | elapsed:    0.1s remaining:    0.0s\n",
      "[Parallel(n_jobs=1)]: Done   7 out of   7 | elapsed:    0.1s remaining:    0.0s\n",
      "[Parallel(n_jobs=1)]: Done   8 out of   8 | elapsed:    0.1s remaining:    0.0s\n",
      "[Parallel(n_jobs=1)]: Done   9 out of   9 | elapsed:    0.1s remaining:    0.0s\n",
      "[Parallel(n_jobs=1)]: Done  12 out of  12 | elapsed:    0.2s finished\n"
     ]
    },
    {
     "data": {
      "text/plain": [
       "GridSearchCV(cv=3, error_score='raise-deprecating',\n",
       "       estimator=Pipeline(memory=None,\n",
       "     steps=[('polynomialfeatures', PolynomialFeatures(degree=2, include_bias=True, interaction_only=False)), ('linearregression', LinearRegression(copy_X=True, fit_intercept=True, n_jobs=None,\n",
       "         normalize=False))]),\n",
       "       fit_params=None, iid='warn', n_jobs=None,\n",
       "       param_grid={'polynomialfeatures__degree': [0, 1, 2, 3]},\n",
       "       pre_dispatch='2*n_jobs', refit=True, return_train_score=True,\n",
       "       scoring='neg_mean_absolute_error', verbose=10)"
      ]
     },
     "execution_count": 41,
     "metadata": {},
     "output_type": "execute_result"
    }
   ],
   "source": [
    "from sklearn.model_selection import GridSearchCV\n",
    "\n",
    "param_grid = {\n",
    "    'polynomialfeatures__degree': [0,1,2,3]\n",
    "}\n",
    "\n",
    "gridsearch = GridSearchCV(PolynomialRegression(), param_grid=param_grid,\n",
    "                         scoring='neg_mean_absolute_error', cv=3,\n",
    "                         return_train_score=True, verbose=10)\n",
    "\n",
    "gridsearch.fit(X_train, y_train)"
   ]
  },
  {
   "cell_type": "code",
   "execution_count": 47,
   "metadata": {},
   "outputs": [
    {
     "data": {
      "text/html": [
       "<div>\n",
       "<style scoped>\n",
       "    .dataframe tbody tr th:only-of-type {\n",
       "        vertical-align: middle;\n",
       "    }\n",
       "\n",
       "    .dataframe tbody tr th {\n",
       "        vertical-align: top;\n",
       "    }\n",
       "\n",
       "    .dataframe thead th {\n",
       "        text-align: right;\n",
       "    }\n",
       "</style>\n",
       "<table border=\"1\" class=\"dataframe\">\n",
       "  <thead>\n",
       "    <tr style=\"text-align: right;\">\n",
       "      <th></th>\n",
       "      <th>mean_fit_time</th>\n",
       "      <th>std_fit_time</th>\n",
       "      <th>mean_score_time</th>\n",
       "      <th>std_score_time</th>\n",
       "      <th>param_polynomialfeatures__degree</th>\n",
       "      <th>params</th>\n",
       "      <th>split0_test_score</th>\n",
       "      <th>split1_test_score</th>\n",
       "      <th>split2_test_score</th>\n",
       "      <th>mean_test_score</th>\n",
       "      <th>std_test_score</th>\n",
       "      <th>rank_test_score</th>\n",
       "      <th>split0_train_score</th>\n",
       "      <th>split1_train_score</th>\n",
       "      <th>split2_train_score</th>\n",
       "      <th>mean_train_score</th>\n",
       "      <th>std_train_score</th>\n",
       "    </tr>\n",
       "  </thead>\n",
       "  <tbody>\n",
       "    <tr>\n",
       "      <th>1</th>\n",
       "      <td>0.008233</td>\n",
       "      <td>0.000141</td>\n",
       "      <td>0.003045</td>\n",
       "      <td>0.000620</td>\n",
       "      <td>1</td>\n",
       "      <td>{'polynomialfeatures__degree': 1}</td>\n",
       "      <td>-555.186275</td>\n",
       "      <td>-651.126513</td>\n",
       "      <td>-615.965800</td>\n",
       "      <td>-607.426196</td>\n",
       "      <td>39.630174</td>\n",
       "      <td>1</td>\n",
       "      <td>-619.509206</td>\n",
       "      <td>-583.427702</td>\n",
       "      <td>-589.341301</td>\n",
       "      <td>-597.426070</td>\n",
       "      <td>15.800661</td>\n",
       "    </tr>\n",
       "    <tr>\n",
       "      <th>0</th>\n",
       "      <td>0.006812</td>\n",
       "      <td>0.001097</td>\n",
       "      <td>0.002212</td>\n",
       "      <td>0.000560</td>\n",
       "      <td>0</td>\n",
       "      <td>{'polynomialfeatures__degree': 0}</td>\n",
       "      <td>-1026.352986</td>\n",
       "      <td>-1001.614925</td>\n",
       "      <td>-927.070705</td>\n",
       "      <td>-985.012872</td>\n",
       "      <td>42.197661</td>\n",
       "      <td>2</td>\n",
       "      <td>-968.880368</td>\n",
       "      <td>-970.755413</td>\n",
       "      <td>-999.896701</td>\n",
       "      <td>-979.844161</td>\n",
       "      <td>14.199935</td>\n",
       "    </tr>\n",
       "    <tr>\n",
       "      <th>2</th>\n",
       "      <td>0.011082</td>\n",
       "      <td>0.001604</td>\n",
       "      <td>0.003391</td>\n",
       "      <td>0.001019</td>\n",
       "      <td>2</td>\n",
       "      <td>{'polynomialfeatures__degree': 2}</td>\n",
       "      <td>-7553.673677</td>\n",
       "      <td>-1439.191570</td>\n",
       "      <td>-644.122834</td>\n",
       "      <td>-3212.329360</td>\n",
       "      <td>3086.906373</td>\n",
       "      <td>3</td>\n",
       "      <td>-595.089615</td>\n",
       "      <td>-568.150803</td>\n",
       "      <td>-565.761032</td>\n",
       "      <td>-576.333816</td>\n",
       "      <td>13.298189</td>\n",
       "    </tr>\n",
       "    <tr>\n",
       "      <th>3</th>\n",
       "      <td>0.013211</td>\n",
       "      <td>0.003104</td>\n",
       "      <td>0.004544</td>\n",
       "      <td>0.000887</td>\n",
       "      <td>3</td>\n",
       "      <td>{'polynomialfeatures__degree': 3}</td>\n",
       "      <td>-2658.143426</td>\n",
       "      <td>-97989.955055</td>\n",
       "      <td>-1847.898741</td>\n",
       "      <td>-34165.332407</td>\n",
       "      <td>45132.035675</td>\n",
       "      <td>4</td>\n",
       "      <td>-565.787903</td>\n",
       "      <td>-663.520092</td>\n",
       "      <td>-576.085578</td>\n",
       "      <td>-601.797858</td>\n",
       "      <td>43.846218</td>\n",
       "    </tr>\n",
       "  </tbody>\n",
       "</table>\n",
       "</div>"
      ],
      "text/plain": [
       "   mean_fit_time  std_fit_time  mean_score_time  std_score_time  \\\n",
       "1       0.008233      0.000141         0.003045        0.000620   \n",
       "0       0.006812      0.001097         0.002212        0.000560   \n",
       "2       0.011082      0.001604         0.003391        0.001019   \n",
       "3       0.013211      0.003104         0.004544        0.000887   \n",
       "\n",
       "  param_polynomialfeatures__degree                             params  \\\n",
       "1                                1  {'polynomialfeatures__degree': 1}   \n",
       "0                                0  {'polynomialfeatures__degree': 0}   \n",
       "2                                2  {'polynomialfeatures__degree': 2}   \n",
       "3                                3  {'polynomialfeatures__degree': 3}   \n",
       "\n",
       "   split0_test_score  split1_test_score  split2_test_score  mean_test_score  \\\n",
       "1        -555.186275        -651.126513        -615.965800      -607.426196   \n",
       "0       -1026.352986       -1001.614925        -927.070705      -985.012872   \n",
       "2       -7553.673677       -1439.191570        -644.122834     -3212.329360   \n",
       "3       -2658.143426      -97989.955055       -1847.898741    -34165.332407   \n",
       "\n",
       "   std_test_score  rank_test_score  split0_train_score  split1_train_score  \\\n",
       "1       39.630174                1         -619.509206         -583.427702   \n",
       "0       42.197661                2         -968.880368         -970.755413   \n",
       "2     3086.906373                3         -595.089615         -568.150803   \n",
       "3    45132.035675                4         -565.787903         -663.520092   \n",
       "\n",
       "   split2_train_score  mean_train_score  std_train_score  \n",
       "1         -589.341301       -597.426070        15.800661  \n",
       "0         -999.896701       -979.844161        14.199935  \n",
       "2         -565.761032       -576.333816        13.298189  \n",
       "3         -576.085578       -601.797858        43.846218  "
      ]
     },
     "execution_count": 47,
     "metadata": {},
     "output_type": "execute_result"
    }
   ],
   "source": [
    "pd.DataFrame(gridsearch.cv_results_).sort_values(by='rank_test_score')"
   ]
  },
  {
   "cell_type": "markdown",
   "metadata": {
    "colab_type": "text",
    "id": "xj82P0VdwYlh"
   },
   "source": [
    "### Random Forest?\n",
    "\n",
    "https://scikit-learn.org/stable/modules/generated/sklearn.ensemble.RandomForestRegressor.html"
   ]
  },
  {
   "cell_type": "code",
   "execution_count": 48,
   "metadata": {
    "colab": {},
    "colab_type": "code",
    "id": "_yYXpk99C4cM"
   },
   "outputs": [
    {
     "data": {
      "text/html": [
       "<div>\n",
       "<style scoped>\n",
       "    .dataframe tbody tr th:only-of-type {\n",
       "        vertical-align: middle;\n",
       "    }\n",
       "\n",
       "    .dataframe tbody tr th {\n",
       "        vertical-align: top;\n",
       "    }\n",
       "\n",
       "    .dataframe thead th {\n",
       "        text-align: right;\n",
       "    }\n",
       "</style>\n",
       "<table border=\"1\" class=\"dataframe\">\n",
       "  <thead>\n",
       "    <tr style=\"text-align: right;\">\n",
       "      <th></th>\n",
       "      <th>fit_time</th>\n",
       "      <th>score_time</th>\n",
       "      <th>estimator</th>\n",
       "      <th>test_score</th>\n",
       "      <th>train_score</th>\n",
       "    </tr>\n",
       "  </thead>\n",
       "  <tbody>\n",
       "    <tr>\n",
       "      <th>0</th>\n",
       "      <td>0.337283</td>\n",
       "      <td>0.016486</td>\n",
       "      <td>(DecisionTreeRegressor(criterion='mse', max_de...</td>\n",
       "      <td>-560.114545</td>\n",
       "      <td>-247.878722</td>\n",
       "    </tr>\n",
       "    <tr>\n",
       "      <th>1</th>\n",
       "      <td>0.282202</td>\n",
       "      <td>0.014399</td>\n",
       "      <td>(DecisionTreeRegressor(criterion='mse', max_de...</td>\n",
       "      <td>-639.362976</td>\n",
       "      <td>-222.719568</td>\n",
       "    </tr>\n",
       "    <tr>\n",
       "      <th>2</th>\n",
       "      <td>0.288726</td>\n",
       "      <td>0.014874</td>\n",
       "      <td>(DecisionTreeRegressor(criterion='mse', max_de...</td>\n",
       "      <td>-639.006226</td>\n",
       "      <td>-225.679533</td>\n",
       "    </tr>\n",
       "  </tbody>\n",
       "</table>\n",
       "</div>"
      ],
      "text/plain": [
       "   fit_time  score_time                                          estimator  \\\n",
       "0  0.337283    0.016486  (DecisionTreeRegressor(criterion='mse', max_de...   \n",
       "1  0.282202    0.014399  (DecisionTreeRegressor(criterion='mse', max_de...   \n",
       "2  0.288726    0.014874  (DecisionTreeRegressor(criterion='mse', max_de...   \n",
       "\n",
       "   test_score  train_score  \n",
       "0 -560.114545  -247.878722  \n",
       "1 -639.362976  -222.719568  \n",
       "2 -639.006226  -225.679533  "
      ]
     },
     "execution_count": 48,
     "metadata": {},
     "output_type": "execute_result"
    }
   ],
   "source": [
    "from sklearn.ensemble import RandomForestRegressor\n",
    "\n",
    "model = RandomForestRegressor(n_estimators=100, max_depth=20)\n",
    "\n",
    "scores = cross_validate(model, X_train, y_train,\n",
    "                       scoring='neg_mean_absolute_error',\n",
    "                       cv=3, return_train_score=True,\n",
    "                       return_estimator=True)\n",
    "pd.DataFrame(scores)"
   ]
  },
  {
   "cell_type": "code",
   "execution_count": 50,
   "metadata": {},
   "outputs": [
    {
     "data": {
      "text/plain": [
       "-612.8279160225942"
      ]
     },
     "execution_count": 50,
     "metadata": {},
     "output_type": "execute_result"
    }
   ],
   "source": [
    "scores['test_score'].mean()"
   ]
  },
  {
   "cell_type": "markdown",
   "metadata": {
    "colab_type": "text",
    "id": "vofwgIpSweEb"
   },
   "source": [
    "### Validation Curve (with Random Forest)"
   ]
  },
  {
   "cell_type": "code",
   "execution_count": 51,
   "metadata": {
    "colab": {},
    "colab_type": "code",
    "id": "apKk4vKiwgtM"
   },
   "outputs": [
    {
     "data": {
      "image/png": "[encoded data removed]",
      "text/plain": [
       "<Figure size 432x288 with 1 Axes>"
      ]
     },
     "metadata": {
      "needs_background": "light"
     },
     "output_type": "display_data"
    }
   ],
   "source": [
    "# Modified from cell 13 at\n",
    "# https://jakevdp.github.io/PythonDataScienceHandbook/05.03-hyperparameters-and-model-validation.html#Validation-curves-in-Scikit-Learn\n",
    "\n",
    "%matplotlib inline\n",
    "import matplotlib.pyplot as plt\n",
    "from sklearn.model_selection import validation_curve\n",
    "\n",
    "model = RandomForestRegressor(n_estimators=100)\n",
    "\n",
    "depth = [2, 3, 4, 5, 6]\n",
    "train_score, val_score = validation_curve(\n",
    "    model, X_train, y_train,\n",
    "    param_name='max_depth', param_range=depth, \n",
    "    scoring='neg_mean_absolute_error', cv=3)\n",
    "\n",
    "plt.plot(depth, np.median(train_score, 1), color='blue', label='training score')\n",
    "plt.plot(depth, np.median(val_score, 1), color='red', label='validation score')\n",
    "plt.legend(loc='best')\n",
    "plt.xlabel('depth');"
   ]
  },
  {
   "cell_type": "markdown",
   "metadata": {
    "colab_type": "text",
    "id": "DQoMvZ7-yCAQ"
   },
   "source": [
    "### Grid Search (with Random Forest)"
   ]
  },
  {
   "cell_type": "code",
   "execution_count": 53,
   "metadata": {
    "colab": {},
    "colab_type": "code",
    "id": "bk_dX_mByKm7"
   },
   "outputs": [
    {
     "name": "stdout",
     "output_type": "stream",
     "text": [
      "Fitting 3 folds for each of 8 candidates, totalling 24 fits\n",
      "[CV] criterion=mse, max_depth=4, n_estimators=100 ....................\n"
     ]
    },
    {
     "name": "stderr",
     "output_type": "stream",
     "text": [
      "[Parallel(n_jobs=1)]: Using backend SequentialBackend with 1 concurrent workers.\n"
     ]
    },
    {
     "name": "stdout",
     "output_type": "stream",
     "text": [
      "[CV]  criterion=mse, max_depth=4, n_estimators=100, score=-553.4565491797731, total=   0.2s\n",
      "[CV] criterion=mse, max_depth=4, n_estimators=100 ....................\n",
      "[CV]  criterion=mse, max_depth=4, n_estimators=100, score=-642.3874635887863, total=   0.2s\n",
      "[CV] criterion=mse, max_depth=4, n_estimators=100 ....................\n"
     ]
    },
    {
     "name": "stderr",
     "output_type": "stream",
     "text": [
      "[Parallel(n_jobs=1)]: Done   1 out of   1 | elapsed:    0.2s remaining:    0.0s\n",
      "[Parallel(n_jobs=1)]: Done   2 out of   2 | elapsed:    0.4s remaining:    0.0s\n"
     ]
    },
    {
     "name": "stdout",
     "output_type": "stream",
     "text": [
      "[CV]  criterion=mse, max_depth=4, n_estimators=100, score=-626.3061990003621, total=   0.2s\n",
      "[CV] criterion=mse, max_depth=4, n_estimators=200 ....................\n"
     ]
    },
    {
     "name": "stderr",
     "output_type": "stream",
     "text": [
      "[Parallel(n_jobs=1)]: Done   3 out of   3 | elapsed:    0.6s remaining:    0.0s\n"
     ]
    },
    {
     "name": "stdout",
     "output_type": "stream",
     "text": [
      "[CV]  criterion=mse, max_depth=4, n_estimators=200, score=-550.8200594649268, total=   0.3s\n",
      "[CV] criterion=mse, max_depth=4, n_estimators=200 ....................\n"
     ]
    },
    {
     "name": "stderr",
     "output_type": "stream",
     "text": [
      "[Parallel(n_jobs=1)]: Done   4 out of   4 | elapsed:    1.0s remaining:    0.0s\n"
     ]
    },
    {
     "name": "stdout",
     "output_type": "stream",
     "text": [
      "[CV]  criterion=mse, max_depth=4, n_estimators=200, score=-641.1974878357842, total=   0.3s\n",
      "[CV] criterion=mse, max_depth=4, n_estimators=200 ....................\n"
     ]
    },
    {
     "name": "stderr",
     "output_type": "stream",
     "text": [
      "[Parallel(n_jobs=1)]: Done   5 out of   5 | elapsed:    1.4s remaining:    0.0s\n"
     ]
    },
    {
     "name": "stdout",
     "output_type": "stream",
     "text": [
      "[CV]  criterion=mse, max_depth=4, n_estimators=200, score=-623.7843184381495, total=   0.4s\n",
      "[CV] criterion=mse, max_depth=5, n_estimators=100 ....................\n",
      "[CV]  criterion=mse, max_depth=5, n_estimators=100, score=-541.4504390905468, total=   0.2s\n",
      "[CV] criterion=mse, max_depth=5, n_estimators=100 ....................\n"
     ]
    },
    {
     "name": "stderr",
     "output_type": "stream",
     "text": [
      "[Parallel(n_jobs=1)]: Done   6 out of   6 | elapsed:    1.7s remaining:    0.0s\n",
      "[Parallel(n_jobs=1)]: Done   7 out of   7 | elapsed:    1.9s remaining:    0.0s\n"
     ]
    },
    {
     "name": "stdout",
     "output_type": "stream",
     "text": [
      "[CV]  criterion=mse, max_depth=5, n_estimators=100, score=-636.8694613903333, total=   0.2s\n",
      "[CV] criterion=mse, max_depth=5, n_estimators=100 ....................\n",
      "[CV]  criterion=mse, max_depth=5, n_estimators=100, score=-629.8349525479217, total=   0.2s\n",
      "[CV] criterion=mse, max_depth=5, n_estimators=200 ....................\n"
     ]
    },
    {
     "name": "stderr",
     "output_type": "stream",
     "text": [
      "[Parallel(n_jobs=1)]: Done   8 out of   8 | elapsed:    2.1s remaining:    0.0s\n",
      "[Parallel(n_jobs=1)]: Done   9 out of   9 | elapsed:    2.3s remaining:    0.0s\n"
     ]
    },
    {
     "name": "stdout",
     "output_type": "stream",
     "text": [
      "[CV]  criterion=mse, max_depth=5, n_estimators=200, score=-544.4331700864603, total=   0.4s\n",
      "[CV] criterion=mse, max_depth=5, n_estimators=200 ....................\n",
      "[CV]  criterion=mse, max_depth=5, n_estimators=200, score=-638.2422629263306, total=   0.4s\n",
      "[CV] criterion=mse, max_depth=5, n_estimators=200 ....................\n",
      "[CV]  criterion=mse, max_depth=5, n_estimators=200, score=-626.0790779969573, total=   0.4s\n",
      "[CV] criterion=mae, max_depth=4, n_estimators=100 ....................\n",
      "[CV]  criterion=mae, max_depth=4, n_estimators=100, score=-543.3381464174455, total=   1.2s\n",
      "[CV] criterion=mae, max_depth=4, n_estimators=100 ....................\n",
      "[CV]  criterion=mae, max_depth=4, n_estimators=100, score=-634.1614641744547, total=   1.2s\n",
      "[CV] criterion=mae, max_depth=4, n_estimators=100 ....................\n",
      "[CV]  criterion=mae, max_depth=4, n_estimators=100, score=-617.0409190031153, total=   1.1s\n",
      "[CV] criterion=mae, max_depth=4, n_estimators=200 ....................\n",
      "[CV]  criterion=mae, max_depth=4, n_estimators=200, score=-545.2331152647976, total=   2.3s\n",
      "[CV] criterion=mae, max_depth=4, n_estimators=200 ....................\n",
      "[CV]  criterion=mae, max_depth=4, n_estimators=200, score=-637.2551947040498, total=   2.2s\n",
      "[CV] criterion=mae, max_depth=4, n_estimators=200 ....................\n",
      "[CV]  criterion=mae, max_depth=4, n_estimators=200, score=-613.6000700934579, total=   2.3s\n",
      "[CV] criterion=mae, max_depth=5, n_estimators=100 ....................\n",
      "[CV]  criterion=mae, max_depth=5, n_estimators=100, score=-541.0820560747663, total=   1.3s\n",
      "[CV] criterion=mae, max_depth=5, n_estimators=100 ....................\n",
      "[CV]  criterion=mae, max_depth=5, n_estimators=100, score=-639.0866043613706, total=   1.2s\n",
      "[CV] criterion=mae, max_depth=5, n_estimators=100 ....................\n",
      "[CV]  criterion=mae, max_depth=5, n_estimators=100, score=-611.8301090342678, total=   1.3s\n",
      "[CV] criterion=mae, max_depth=5, n_estimators=200 ....................\n",
      "[CV]  criterion=mae, max_depth=5, n_estimators=200, score=-537.7241121495327, total=   2.6s\n",
      "[CV] criterion=mae, max_depth=5, n_estimators=200 ....................\n",
      "[CV]  criterion=mae, max_depth=5, n_estimators=200, score=-637.2794392523365, total=   2.4s\n",
      "[CV] criterion=mae, max_depth=5, n_estimators=200 ....................\n",
      "[CV]  criterion=mae, max_depth=5, n_estimators=200, score=-611.7120638629284, total=   2.5s\n"
     ]
    },
    {
     "name": "stderr",
     "output_type": "stream",
     "text": [
      "[Parallel(n_jobs=1)]: Done  24 out of  24 | elapsed:   25.3s finished\n"
     ]
    },
    {
     "name": "stdout",
     "output_type": "stream",
     "text": [
      "CPU times: user 28.4 s, sys: 570 ms, total: 28.9 s\n",
      "Wall time: 29.8 s\n"
     ]
    }
   ],
   "source": [
    "%%time\n",
    "\n",
    "param_grid = {\n",
    "    'n_estimators':[100,200],\n",
    "    'max_depth':[4,5],\n",
    "    'criterion':['mse','mae']\n",
    "}\n",
    "\n",
    "gridsearch = GridSearchCV(RandomForestRegressor(), param_grid=param_grid,\n",
    "                         scoring='neg_mean_absolute_error', cv=3,\n",
    "                         return_train_score=True, verbose=10)\n",
    "gridsearch.fit(X_train,y_train)"
   ]
  },
  {
   "cell_type": "code",
   "execution_count": 54,
   "metadata": {},
   "outputs": [
    {
     "name": "stdout",
     "output_type": "stream",
     "text": [
      "Best result from grid search of 8 parameter combinations\n"
     ]
    },
    {
     "data": {
      "text/html": [
       "<div>\n",
       "<style scoped>\n",
       "    .dataframe tbody tr th:only-of-type {\n",
       "        vertical-align: middle;\n",
       "    }\n",
       "\n",
       "    .dataframe tbody tr th {\n",
       "        vertical-align: top;\n",
       "    }\n",
       "\n",
       "    .dataframe thead th {\n",
       "        text-align: right;\n",
       "    }\n",
       "</style>\n",
       "<table border=\"1\" class=\"dataframe\">\n",
       "  <thead>\n",
       "    <tr style=\"text-align: right;\">\n",
       "      <th></th>\n",
       "      <th>mean_fit_time</th>\n",
       "      <th>std_fit_time</th>\n",
       "      <th>mean_score_time</th>\n",
       "      <th>std_score_time</th>\n",
       "      <th>param_criterion</th>\n",
       "      <th>param_max_depth</th>\n",
       "      <th>param_n_estimators</th>\n",
       "      <th>params</th>\n",
       "      <th>split0_test_score</th>\n",
       "      <th>split1_test_score</th>\n",
       "      <th>split2_test_score</th>\n",
       "      <th>mean_test_score</th>\n",
       "      <th>std_test_score</th>\n",
       "      <th>rank_test_score</th>\n",
       "      <th>split0_train_score</th>\n",
       "      <th>split1_train_score</th>\n",
       "      <th>split2_train_score</th>\n",
       "      <th>mean_train_score</th>\n",
       "      <th>std_train_score</th>\n",
       "    </tr>\n",
       "  </thead>\n",
       "  <tbody>\n",
       "    <tr>\n",
       "      <th>7</th>\n",
       "      <td>2.498138</td>\n",
       "      <td>0.088809</td>\n",
       "      <td>0.01934</td>\n",
       "      <td>0.001241</td>\n",
       "      <td>mae</td>\n",
       "      <td>5</td>\n",
       "      <td>200</td>\n",
       "      <td>{'criterion': 'mae', 'max_depth': 5, 'n_estima...</td>\n",
       "      <td>-537.724112</td>\n",
       "      <td>-637.279439</td>\n",
       "      <td>-611.712064</td>\n",
       "      <td>-595.571872</td>\n",
       "      <td>42.215283</td>\n",
       "      <td>1</td>\n",
       "      <td>-516.304143</td>\n",
       "      <td>-474.442348</td>\n",
       "      <td>-484.807243</td>\n",
       "      <td>-491.851245</td>\n",
       "      <td>17.801048</td>\n",
       "    </tr>\n",
       "  </tbody>\n",
       "</table>\n",
       "</div>"
      ],
      "text/plain": [
       "   mean_fit_time  std_fit_time  mean_score_time  std_score_time  \\\n",
       "7       2.498138      0.088809          0.01934        0.001241   \n",
       "\n",
       "  param_criterion param_max_depth param_n_estimators  \\\n",
       "7             mae               5                200   \n",
       "\n",
       "                                              params  split0_test_score  \\\n",
       "7  {'criterion': 'mae', 'max_depth': 5, 'n_estima...        -537.724112   \n",
       "\n",
       "   split1_test_score  split2_test_score  mean_test_score  std_test_score  \\\n",
       "7        -637.279439        -611.712064      -595.571872       42.215283   \n",
       "\n",
       "   rank_test_score  split0_train_score  split1_train_score  \\\n",
       "7                1         -516.304143         -474.442348   \n",
       "\n",
       "   split2_train_score  mean_train_score  std_train_score  \n",
       "7         -484.807243       -491.851245        17.801048  "
      ]
     },
     "execution_count": 54,
     "metadata": {},
     "output_type": "execute_result"
    }
   ],
   "source": [
    "results= pd.DataFrame(gridsearch.cv_results_)\n",
    "print(f'Best result from grid search of {len(results)} parameter combinations')\n",
    "results.sort_values(by='rank_test_score').head(1)"
   ]
  },
  {
   "cell_type": "markdown",
   "metadata": {
    "colab_type": "text",
    "id": "ZW5HfYtU0GW2"
   },
   "source": [
    "## FEATURE ENGINEERING!"
   ]
  },
  {
   "cell_type": "markdown",
   "metadata": {
    "colab_type": "text",
    "id": "0ms-eoOHFvPG"
   },
   "source": [
    "Jake VanderPlas demonstrates this feature engineering: \n",
    "https://jakevdp.github.io/PythonDataScienceHandbook/05.06-linear-regression.html#Example:-Predicting-Bicycle-Traffic"
   ]
  },
  {
   "cell_type": "code",
   "execution_count": 55,
   "metadata": {
    "colab": {},
    "colab_type": "code",
    "id": "sEwME8wR3A5g"
   },
   "outputs": [],
   "source": [
    "# Modified from code cells 17-21 at\n",
    "# https://jakevdp.github.io/PythonDataScienceHandbook/05.06-linear-regression.html#Example:-Predicting-Bicycle-Traffic\n",
    "\n",
    "\n",
    "# patterns of use generally vary from day to day; \n",
    "# let's add binary columns that indicate the day of the week:\n",
    "days = ['Mon', 'Tue', 'Wed', 'Thu', 'Fri', 'Sat', 'Sun']\n",
    "for i, day in enumerate(days):\n",
    "    X_train[day] = (X_train.index.dayofweek == i).astype(float)\n",
    "\n",
    "\n",
    "    \n",
    "# we might expect riders to behave differently on holidays; \n",
    "# let's add an indicator of this as well:\n",
    "from pandas.tseries.holiday import USFederalHolidayCalendar\n",
    "cal = USFederalHolidayCalendar()\n",
    "holidays = cal.holidays('2012', '2016')\n",
    "X_train = X_train.join(pd.Series(1, index=holidays, name='holiday'))\n",
    "X_train['holiday'].fillna(0, inplace=True)\n",
    "\n",
    "\n",
    "\n",
    "# We also might suspect that the hours of daylight would affect \n",
    "# how many people ride; let's use the standard astronomical calculation \n",
    "# to add this information:\n",
    "def hours_of_daylight(date, axis=23.44, latitude=47.61):\n",
    "    \"\"\"Compute the hours of daylight for the given date\"\"\"\n",
    "    days = (date - pd.datetime(2000, 12, 21)).days\n",
    "    m = (1. - np.tan(np.radians(latitude))\n",
    "         * np.tan(np.radians(axis) * np.cos(days * 2 * np.pi / 365.25)))\n",
    "    return 24. * np.degrees(np.arccos(1 - np.clip(m, 0, 2))) / 180.\n",
    "\n",
    "X_train['daylight_hrs'] = list(map(hours_of_daylight, X_train.index))\n",
    "\n",
    "\n",
    "\n",
    "# temperatures are in 1/10 deg C; convert to C\n",
    "X_train['TMIN'] /= 10\n",
    "X_train['TMAX'] /= 10\n",
    "\n",
    "# We can also calcuate the average temperature.\n",
    "X_train['Temp (C)'] = 0.5 * (X_train['TMIN'] + X_train['TMAX'])\n",
    "\n",
    "\n",
    "\n",
    "# precip is in 1/10 mm; convert to inches\n",
    "X_train['PRCP'] /= 254\n",
    "\n",
    "# In addition to the inches of precipitation, let's add a flag that \n",
    "# indicates whether a day is dry (has zero precipitation):\n",
    "X_train['dry day'] = (X_train['PRCP'] == 0).astype(int)\n",
    "\n",
    "\n",
    "\n",
    "# Let's add a counter that increases from day 1, and measures how many \n",
    "# years have passed. This will let us measure any observed annual increase \n",
    "# or decrease in daily crossings:\n",
    "X_train['annual'] = (X_train.index - X_train.index[0]).days / 365."
   ]
  },
  {
   "cell_type": "markdown",
   "metadata": {
    "colab_type": "text",
    "id": "dDGkAv813Wtj"
   },
   "source": [
    "### Linear Regression (with new features)"
   ]
  },
  {
   "cell_type": "code",
   "execution_count": 56,
   "metadata": {
    "colab": {},
    "colab_type": "code",
    "id": "cj3HTM6p5F1A"
   },
   "outputs": [
    {
     "data": {
      "text/html": [
       "<div>\n",
       "<style scoped>\n",
       "    .dataframe tbody tr th:only-of-type {\n",
       "        vertical-align: middle;\n",
       "    }\n",
       "\n",
       "    .dataframe tbody tr th {\n",
       "        vertical-align: top;\n",
       "    }\n",
       "\n",
       "    .dataframe thead th {\n",
       "        text-align: right;\n",
       "    }\n",
       "</style>\n",
       "<table border=\"1\" class=\"dataframe\">\n",
       "  <thead>\n",
       "    <tr style=\"text-align: right;\">\n",
       "      <th></th>\n",
       "      <th>fit_time</th>\n",
       "      <th>score_time</th>\n",
       "      <th>estimator</th>\n",
       "      <th>test_score</th>\n",
       "      <th>train_score</th>\n",
       "    </tr>\n",
       "  </thead>\n",
       "  <tbody>\n",
       "    <tr>\n",
       "      <th>0</th>\n",
       "      <td>0.012560</td>\n",
       "      <td>0.001987</td>\n",
       "      <td>LinearRegression(copy_X=True, fit_intercept=Tr...</td>\n",
       "      <td>-297.692524</td>\n",
       "      <td>-294.532315</td>\n",
       "    </tr>\n",
       "    <tr>\n",
       "      <th>1</th>\n",
       "      <td>0.006747</td>\n",
       "      <td>0.003062</td>\n",
       "      <td>LinearRegression(copy_X=True, fit_intercept=Tr...</td>\n",
       "      <td>-300.419037</td>\n",
       "      <td>-283.779461</td>\n",
       "    </tr>\n",
       "    <tr>\n",
       "      <th>2</th>\n",
       "      <td>0.004401</td>\n",
       "      <td>0.003966</td>\n",
       "      <td>LinearRegression(copy_X=True, fit_intercept=Tr...</td>\n",
       "      <td>-322.640378</td>\n",
       "      <td>-283.509114</td>\n",
       "    </tr>\n",
       "  </tbody>\n",
       "</table>\n",
       "</div>"
      ],
      "text/plain": [
       "   fit_time  score_time                                          estimator  \\\n",
       "0  0.012560    0.001987  LinearRegression(copy_X=True, fit_intercept=Tr...   \n",
       "1  0.006747    0.003062  LinearRegression(copy_X=True, fit_intercept=Tr...   \n",
       "2  0.004401    0.003966  LinearRegression(copy_X=True, fit_intercept=Tr...   \n",
       "\n",
       "   test_score  train_score  \n",
       "0 -297.692524  -294.532315  \n",
       "1 -300.419037  -283.779461  \n",
       "2 -322.640378  -283.509114  "
      ]
     },
     "execution_count": 56,
     "metadata": {},
     "output_type": "execute_result"
    }
   ],
   "source": [
    "scores = cross_validate(LinearRegression(), X_train, y_train, \n",
    "                        scoring='neg_mean_absolute_error', cv=3, \n",
    "                        return_train_score=True, return_estimator=True)\n",
    "\n",
    "pd.DataFrame(scores)"
   ]
  },
  {
   "cell_type": "code",
   "execution_count": 71,
   "metadata": {},
   "outputs": [
    {
     "data": {
      "text/plain": [
       "-306.9173130794427"
      ]
     },
     "execution_count": 71,
     "metadata": {},
     "output_type": "execute_result"
    }
   ],
   "source": [
    "scores['test_score'].mean()"
   ]
  },
  {
   "cell_type": "markdown",
   "metadata": {},
   "source": [
    "The mean test (validation) score went down by half!"
   ]
  },
  {
   "cell_type": "markdown",
   "metadata": {
    "colab_type": "text",
    "id": "b6zxN2xB3bX_"
   },
   "source": [
    "### Random Forest (with new features)"
   ]
  },
  {
   "cell_type": "code",
   "execution_count": 74,
   "metadata": {
    "colab": {},
    "colab_type": "code",
    "id": "3sWUDZIz1-kk"
   },
   "outputs": [
    {
     "name": "stdout",
     "output_type": "stream",
     "text": [
      "Fitting 3 folds for each of 6 candidates, totalling 18 fits\n",
      "[CV] criterion=mae, max_depth=5, n_estimators=100 ....................\n"
     ]
    },
    {
     "name": "stderr",
     "output_type": "stream",
     "text": [
      "[Parallel(n_jobs=1)]: Using backend SequentialBackend with 1 concurrent workers.\n"
     ]
    },
    {
     "name": "stdout",
     "output_type": "stream",
     "text": [
      "[CV]  criterion=mae, max_depth=5, n_estimators=100, score=-354.0012149532711, total=   2.2s\n",
      "[CV] criterion=mae, max_depth=5, n_estimators=100 ....................\n"
     ]
    },
    {
     "name": "stderr",
     "output_type": "stream",
     "text": [
      "[Parallel(n_jobs=1)]: Done   1 out of   1 | elapsed:    2.2s remaining:    0.0s\n"
     ]
    },
    {
     "name": "stdout",
     "output_type": "stream",
     "text": [
      "[CV]  criterion=mae, max_depth=5, n_estimators=100, score=-384.3813862928349, total=   2.0s\n",
      "[CV] criterion=mae, max_depth=5, n_estimators=100 ....................\n"
     ]
    },
    {
     "name": "stderr",
     "output_type": "stream",
     "text": [
      "[Parallel(n_jobs=1)]: Done   2 out of   2 | elapsed:    4.2s remaining:    0.0s\n"
     ]
    },
    {
     "name": "stdout",
     "output_type": "stream",
     "text": [
      "[CV]  criterion=mae, max_depth=5, n_estimators=100, score=-340.6088785046728, total=   2.1s\n",
      "[CV] criterion=mae, max_depth=5, n_estimators=200 ....................\n"
     ]
    },
    {
     "name": "stderr",
     "output_type": "stream",
     "text": [
      "[Parallel(n_jobs=1)]: Done   3 out of   3 | elapsed:    6.2s remaining:    0.0s\n"
     ]
    },
    {
     "name": "stdout",
     "output_type": "stream",
     "text": [
      "[CV]  criterion=mae, max_depth=5, n_estimators=200, score=-353.8059813084112, total=   4.4s\n",
      "[CV] criterion=mae, max_depth=5, n_estimators=200 ....................\n"
     ]
    },
    {
     "name": "stderr",
     "output_type": "stream",
     "text": [
      "[Parallel(n_jobs=1)]: Done   4 out of   4 | elapsed:   10.6s remaining:    0.0s\n"
     ]
    },
    {
     "name": "stdout",
     "output_type": "stream",
     "text": [
      "[CV]  criterion=mae, max_depth=5, n_estimators=200, score=-382.6043769470405, total=   4.4s\n",
      "[CV] criterion=mae, max_depth=5, n_estimators=200 ....................\n"
     ]
    },
    {
     "name": "stderr",
     "output_type": "stream",
     "text": [
      "[Parallel(n_jobs=1)]: Done   5 out of   5 | elapsed:   15.0s remaining:    0.0s\n"
     ]
    },
    {
     "name": "stdout",
     "output_type": "stream",
     "text": [
      "[CV]  criterion=mae, max_depth=5, n_estimators=200, score=-339.97579439252337, total=   4.4s\n",
      "[CV] criterion=mae, max_depth=10, n_estimators=100 ...................\n"
     ]
    },
    {
     "name": "stderr",
     "output_type": "stream",
     "text": [
      "[Parallel(n_jobs=1)]: Done   6 out of   6 | elapsed:   19.4s remaining:    0.0s\n"
     ]
    },
    {
     "name": "stdout",
     "output_type": "stream",
     "text": [
      "[CV]  criterion=mae, max_depth=10, n_estimators=100, score=-359.43724299065417, total=   2.9s\n",
      "[CV] criterion=mae, max_depth=10, n_estimators=100 ...................\n"
     ]
    },
    {
     "name": "stderr",
     "output_type": "stream",
     "text": [
      "[Parallel(n_jobs=1)]: Done   7 out of   7 | elapsed:   22.3s remaining:    0.0s\n"
     ]
    },
    {
     "name": "stdout",
     "output_type": "stream",
     "text": [
      "[CV]  criterion=mae, max_depth=10, n_estimators=100, score=-327.35246105919003, total=   2.9s\n",
      "[CV] criterion=mae, max_depth=10, n_estimators=100 ...................\n"
     ]
    },
    {
     "name": "stderr",
     "output_type": "stream",
     "text": [
      "[Parallel(n_jobs=1)]: Done   8 out of   8 | elapsed:   25.2s remaining:    0.0s\n"
     ]
    },
    {
     "name": "stdout",
     "output_type": "stream",
     "text": [
      "[CV]  criterion=mae, max_depth=10, n_estimators=100, score=-295.34704049844237, total=   2.9s\n",
      "[CV] criterion=mae, max_depth=10, n_estimators=200 ...................\n"
     ]
    },
    {
     "name": "stderr",
     "output_type": "stream",
     "text": [
      "[Parallel(n_jobs=1)]: Done   9 out of   9 | elapsed:   28.1s remaining:    0.0s\n"
     ]
    },
    {
     "name": "stdout",
     "output_type": "stream",
     "text": [
      "[CV]  criterion=mae, max_depth=10, n_estimators=200, score=-345.23653426791276, total=   5.7s\n",
      "[CV] criterion=mae, max_depth=10, n_estimators=200 ...................\n",
      "[CV]  criterion=mae, max_depth=10, n_estimators=200, score=-323.40136292834893, total=   5.4s\n",
      "[CV] criterion=mae, max_depth=10, n_estimators=200 ...................\n",
      "[CV]  criterion=mae, max_depth=10, n_estimators=200, score=-302.9547741433022, total=   5.7s\n",
      "[CV] criterion=mae, max_depth=15, n_estimators=100 ...................\n",
      "[CV]  criterion=mae, max_depth=15, n_estimators=100, score=-354.79922118380057, total=   3.1s\n",
      "[CV] criterion=mae, max_depth=15, n_estimators=100 ...................\n",
      "[CV]  criterion=mae, max_depth=15, n_estimators=100, score=-326.3640965732087, total=   3.0s\n",
      "[CV] criterion=mae, max_depth=15, n_estimators=100 ...................\n",
      "[CV]  criterion=mae, max_depth=15, n_estimators=100, score=-318.19783489096574, total=   3.3s\n",
      "[CV] criterion=mae, max_depth=15, n_estimators=200 ...................\n",
      "[CV]  criterion=mae, max_depth=15, n_estimators=200, score=-347.08701713395635, total=   6.3s\n",
      "[CV] criterion=mae, max_depth=15, n_estimators=200 ...................\n",
      "[CV]  criterion=mae, max_depth=15, n_estimators=200, score=-321.06884735202493, total=   9.4s\n",
      "[CV] criterion=mae, max_depth=15, n_estimators=200 ...................\n",
      "[CV]  criterion=mae, max_depth=15, n_estimators=200, score=-301.45397975077884, total=  13.7s\n"
     ]
    },
    {
     "name": "stderr",
     "output_type": "stream",
     "text": [
      "[Parallel(n_jobs=1)]: Done  18 out of  18 | elapsed:  1.4min finished\n"
     ]
    },
    {
     "data": {
      "text/plain": [
       "GridSearchCV(cv=3, error_score='raise-deprecating',\n",
       "       estimator=RandomForestRegressor(bootstrap=True, criterion='mse', max_depth=None,\n",
       "           max_features='auto', max_leaf_nodes=None,\n",
       "           min_impurity_decrease=0.0, min_impurity_split=None,\n",
       "           min_samples_leaf=1, min_samples_split=2,\n",
       "           min_weight_fraction_leaf=0.0, n_estimators='warn', n_jobs=None,\n",
       "           oob_score=False, random_state=None, verbose=0, warm_start=False),\n",
       "       fit_params=None, iid='warn', n_jobs=None,\n",
       "       param_grid={'n_estimators': [100, 200], 'max_depth': [5, 10, 15], 'criterion': ['mae']},\n",
       "       pre_dispatch='2*n_jobs', refit=True, return_train_score=True,\n",
       "       scoring='neg_mean_absolute_error', verbose=10)"
      ]
     },
     "execution_count": 74,
     "metadata": {},
     "output_type": "execute_result"
    }
   ],
   "source": [
    "param_grid = {\n",
    "    'n_estimators':[100,200],\n",
    "    'max_depth':[5,10,15],\n",
    "    'criterion':['mae']\n",
    "}\n",
    "\n",
    "gridsearch = GridSearchCV(RandomForestRegressor(),\n",
    "                          param_grid=param_grid,\n",
    "                          scoring='neg_mean_absolute_error',\n",
    "                          cv=3, verbose=10,\n",
    "                          return_train_score=True)\n",
    "\n",
    "gridsearch.fit(X_train, y_train)"
   ]
  },
  {
   "cell_type": "code",
   "execution_count": 76,
   "metadata": {},
   "outputs": [
    {
     "name": "stdout",
     "output_type": "stream",
     "text": [
      "Best result from grid search of 6 parameter combinations\n"
     ]
    },
    {
     "data": {
      "text/html": [
       "<div>\n",
       "<style scoped>\n",
       "    .dataframe tbody tr th:only-of-type {\n",
       "        vertical-align: middle;\n",
       "    }\n",
       "\n",
       "    .dataframe tbody tr th {\n",
       "        vertical-align: top;\n",
       "    }\n",
       "\n",
       "    .dataframe thead th {\n",
       "        text-align: right;\n",
       "    }\n",
       "</style>\n",
       "<table border=\"1\" class=\"dataframe\">\n",
       "  <thead>\n",
       "    <tr style=\"text-align: right;\">\n",
       "      <th></th>\n",
       "      <th>mean_fit_time</th>\n",
       "      <th>std_fit_time</th>\n",
       "      <th>mean_score_time</th>\n",
       "      <th>std_score_time</th>\n",
       "      <th>param_criterion</th>\n",
       "      <th>param_max_depth</th>\n",
       "      <th>param_n_estimators</th>\n",
       "      <th>params</th>\n",
       "      <th>split0_test_score</th>\n",
       "      <th>split1_test_score</th>\n",
       "      <th>split2_test_score</th>\n",
       "      <th>mean_test_score</th>\n",
       "      <th>std_test_score</th>\n",
       "      <th>rank_test_score</th>\n",
       "      <th>split0_train_score</th>\n",
       "      <th>split1_train_score</th>\n",
       "      <th>split2_train_score</th>\n",
       "      <th>mean_train_score</th>\n",
       "      <th>std_train_score</th>\n",
       "    </tr>\n",
       "  </thead>\n",
       "  <tbody>\n",
       "    <tr>\n",
       "      <th>5</th>\n",
       "      <td>9.749068</td>\n",
       "      <td>3.037809</td>\n",
       "      <td>0.035213</td>\n",
       "      <td>0.015045</td>\n",
       "      <td>mae</td>\n",
       "      <td>15</td>\n",
       "      <td>200</td>\n",
       "      <td>{'criterion': 'mae', 'max_depth': 15, 'n_estim...</td>\n",
       "      <td>-347.087017</td>\n",
       "      <td>-321.068847</td>\n",
       "      <td>-301.45398</td>\n",
       "      <td>-323.203281</td>\n",
       "      <td>18.690646</td>\n",
       "      <td>1</td>\n",
       "      <td>-110.282555</td>\n",
       "      <td>-102.700623</td>\n",
       "      <td>-114.355868</td>\n",
       "      <td>-109.113015</td>\n",
       "      <td>4.829565</td>\n",
       "    </tr>\n",
       "  </tbody>\n",
       "</table>\n",
       "</div>"
      ],
      "text/plain": [
       "   mean_fit_time  std_fit_time  mean_score_time  std_score_time  \\\n",
       "5       9.749068      3.037809         0.035213        0.015045   \n",
       "\n",
       "  param_criterion param_max_depth param_n_estimators  \\\n",
       "5             mae              15                200   \n",
       "\n",
       "                                              params  split0_test_score  \\\n",
       "5  {'criterion': 'mae', 'max_depth': 15, 'n_estim...        -347.087017   \n",
       "\n",
       "   split1_test_score  split2_test_score  mean_test_score  std_test_score  \\\n",
       "5        -321.068847         -301.45398      -323.203281       18.690646   \n",
       "\n",
       "   rank_test_score  split0_train_score  split1_train_score  \\\n",
       "5                1         -110.282555         -102.700623   \n",
       "\n",
       "   split2_train_score  mean_train_score  std_train_score  \n",
       "5         -114.355868       -109.113015         4.829565  "
      ]
     },
     "execution_count": 76,
     "metadata": {},
     "output_type": "execute_result"
    }
   ],
   "source": [
    "results= pd.DataFrame(gridsearch.cv_results_)\n",
    "print(f'Best result from grid search of {len(results)} parameter combinations')\n",
    "results.sort_values(by='rank_test_score').head(1)"
   ]
  },
  {
   "cell_type": "code",
   "execution_count": 82,
   "metadata": {},
   "outputs": [
    {
     "data": {
      "text/plain": [
       "-323.2032814122534"
      ]
     },
     "execution_count": 82,
     "metadata": {},
     "output_type": "execute_result"
    }
   ],
   "source": [
    "results['mean_test_score'].max()"
   ]
  },
  {
   "cell_type": "markdown",
   "metadata": {
    "colab_type": "text",
    "id": "0QEBUVR13kcb"
   },
   "source": [
    "### Ridge Regression (with new features)\n",
    "\n",
    "https://scikit-learn.org/stable/modules/generated/sklearn.linear_model.Ridge.html"
   ]
  },
  {
   "cell_type": "code",
   "execution_count": 84,
   "metadata": {
    "colab": {},
    "colab_type": "code",
    "id": "4voLbIxU8r6r"
   },
   "outputs": [
    {
     "data": {
      "text/plain": [
       "GridSearchCV(cv=3, error_score='raise-deprecating',\n",
       "       estimator=Ridge(alpha=1.0, copy_X=True, fit_intercept=True, max_iter=None,\n",
       "   normalize=False, random_state=None, solver='auto', tol=0.001),\n",
       "       fit_params=None, iid='warn', n_jobs=None,\n",
       "       param_grid={'alpha': [0.1, 1, 10.0]}, pre_dispatch='2*n_jobs',\n",
       "       refit=True, return_train_score=True,\n",
       "       scoring='neg_mean_absolute_error', verbose=0)"
      ]
     },
     "execution_count": 84,
     "metadata": {},
     "output_type": "execute_result"
    }
   ],
   "source": [
    "from sklearn.linear_model import Ridge\n",
    "param_grid = {\n",
    "    'alpha':[0.1, 1, 10.]\n",
    "}\n",
    "\n",
    "gridsearch = GridSearchCV(Ridge(), param_grid=param_grid,\n",
    "                         scoring='neg_mean_absolute_error', cv=3,\n",
    "                         return_train_score=True)\n",
    "gridsearch.fit(X_train,y_train)"
   ]
  },
  {
   "cell_type": "code",
   "execution_count": 85,
   "metadata": {},
   "outputs": [
    {
     "data": {
      "text/plain": [
       "{'alpha': 1}"
      ]
     },
     "execution_count": 85,
     "metadata": {},
     "output_type": "execute_result"
    }
   ],
   "source": [
    "gridsearch.best_params_"
   ]
  },
  {
   "cell_type": "code",
   "execution_count": 87,
   "metadata": {},
   "outputs": [
    {
     "name": "stdout",
     "output_type": "stream",
     "text": [
      "Best model from grid search cross validation\n",
      "\n",
      "Best parameters {'alpha': 1}\n",
      "\n",
      "Intercept 33.7417795707961\n",
      "\n",
      "-553.070741                PRCP\n",
      "-0.002829                  SNOW\n",
      "-1.877519                  SNWD\n",
      " 63.833062                 TMAX\n",
      "-37.450291                 TMIN\n",
      "-1.900084                  AWND\n",
      " 0.296029       Total_yesterday\n",
      " 779.221395                 Mon\n",
      " 432.700039                 Tue\n",
      " 368.367626                 Wed\n",
      " 274.054021                 Thu\n",
      " 47.251356                  Fri\n",
      "-1099.692199                Sat\n",
      "-801.902237                 Sun\n",
      "-939.301546             holiday\n",
      " 70.256463         daylight_hrs\n",
      " 13.191386             Temp (C)\n",
      " 298.475434             dry day\n",
      " 44.518889               annual\n",
      "dtype: object\n"
     ]
    }
   ],
   "source": [
    "model = gridsearch.best_estimator_\n",
    "coefficients = model.coef_\n",
    "intercept = model.intercept_\n",
    "feature_names = X_train.columns\n",
    "\n",
    "print('Best model from grid search cross validation\\n')\n",
    "print(f'Best parameters {gridsearch.best_params_}\\n')\n",
    "print(f'Intercept {intercept}\\n')\n",
    "print(pd.Series(feature_names, coefficients))"
   ]
  },
  {
   "cell_type": "markdown",
   "metadata": {
    "colab_type": "text",
    "id": "dofdwyTf3pm0"
   },
   "source": [
    "### Compare to statsmodels"
   ]
  },
  {
   "cell_type": "code",
   "execution_count": 93,
   "metadata": {
    "colab": {},
    "colab_type": "code",
    "id": "i-Qt4mDk_yBY"
   },
   "outputs": [
    {
     "data": {
      "text/plain": [
       "const              1435.965518\n",
       "PRCP               -560.385699\n",
       "SNOW                 -0.007529\n",
       "SNWD                 -1.466918\n",
       "TMAX                 73.833291\n",
       "TMIN                -28.821051\n",
       "AWND                 -2.111771\n",
       "Total_yesterday       0.300158\n",
       "Mon                -388.407337\n",
       "Tue                -744.230946\n",
       "Wed                -806.982905\n",
       "Thu                -901.266937\n",
       "Fri               -1130.474786\n",
       "Sat               -2285.193056\n",
       "Sun               -1980.093217\n",
       "holiday            -966.503629\n",
       "daylight_hrs         43.768697\n",
       "Temp (C)              1.627886\n",
       "dry day             302.897982\n",
       "annual               38.803984\n",
       "dtype: float64"
      ]
     },
     "execution_count": 93,
     "metadata": {},
     "output_type": "execute_result"
    }
   ],
   "source": [
    "import statsmodels.api as sm\n",
    "model = sm.OLS(y_train, sm.add_constant(X_train))\n",
    "model.fit_regularized(alpha=1).params"
   ]
  },
  {
   "cell_type": "markdown",
   "metadata": {},
   "source": [
    "`Statsmodels` produces very similar parameters in general, though the coefficient is very different.  Not sure why that is."
   ]
  },
  {
   "cell_type": "markdown",
   "metadata": {
    "colab_type": "text",
    "id": "edpJ87A8A8sd"
   },
   "source": [
    "\n",
    "### Feature engineering, explained by Francois Chollet\n",
    "\n",
    "> _Feature engineering_ is the process of using your own knowledge about the data and about the machine learning algorithm at hand to make the algorithm work better by applying hardcoded (nonlearned) transformations to the data before it goes into the model. In many cases, it isn’t reasonable to expect a machine-learning model to be able to learn from completely arbitrary data. The data needs to be presented to the model in a way that will make the model’s job easier.\n",
    "\n",
    "> Let’s look at an intuitive example. Suppose you’re trying to develop a model that can take as input an image of a clock and can output the time of day.\n",
    "\n",
    "> If you choose to use the raw pixels of the image as input data, then you have a difficult machine-learning problem on your hands. You’ll need a convolutional neural network to solve it, and you’ll have to expend quite a bit of computational resources to train the network.\n",
    "\n",
    "> But if you already understand the problem at a high level (you understand how humans read time on a clock face), then you can come up with much better input features for a machine-learning algorithm: for instance, write a Python script to follow the black pixels of the clock hands and output the (x, y) coordinates of the tip of each hand. Then a simple machine-learning algorithm can learn to associate these coordinates with the appropriate time of day.\n",
    "\n",
    "> You can go even further: do a coordinate change, and express the (x, y) coordinates as polar coordinates with regard to the center of the image. Your input will become the angle theta of each clock hand. At this point, your features are making the problem so easy that no machine learning is required; a simple rounding operation and dictionary lookup are enough to recover the approximate time of day.\n",
    "\n",
    "> That’s the essence of feature engineering: making a problem easier by expressing it in a simpler way. It usually requires understanding the problem in depth.\n",
    "\n",
    "> Before convolutional neural networks became successful on the MNIST digit-classification problem, solutions were typically based on hardcoded features such as the number of loops in a digit image, the height of each digit in an image, a histogram of pixel values, and so on.\n",
    "\n",
    "> Neural networks are capable of automatically extracting useful features from raw data. Does this mean you don’t have to worry about feature engineering as long as you’re using deep neural networks? No, for two reasons:\n",
    "\n",
    "> - Good features still allow you to solve problems more elegantly while using fewer resources. For instance, it would be ridiculous to solve the problem of reading a clock face using a convolutional neural network.\n",
    "> - Good features let you solve a problem with far less data. The ability of deep-learning models to learn features on their own relies on having lots of training data available; if you have only a few samples, then the information value in their features becomes critical.\n"
   ]
  },
  {
   "cell_type": "markdown",
   "metadata": {
    "colab_type": "text",
    "id": "oux-dd-5FD6p"
   },
   "source": [
    "# ASSIGNMENT\n",
    "\n",
    "### Core assignment\n",
    "\n",
    "Complete the notebook cells that were originally commented **`TODO`**. \n",
    "\n",
    "Then, focus on feature engineering to improve your cross validation scores. Collaborate with your cohort on Slack. You could start with the ideas [Jake VanderPlas suggests:](https://jakevdp.github.io/PythonDataScienceHandbook/05.06-linear-regression.html#Example:-Predicting-Bicycle-Traffic)\n",
    "\n",
    "> Our model is almost certainly missing some relevant information. For example, nonlinear effects (such as effects of precipitation and cold temperature) and nonlinear trends within each variable (such as disinclination to ride at very cold and very hot temperatures) cannot be accounted for in this model. Additionally, we have thrown away some of the finer-grained information (such as the difference between a rainy morning and a rainy afternoon), and we have ignored correlations between days (such as the possible effect of a rainy Tuesday on Wednesday's numbers, or the effect of an unexpected sunny day after a streak of rainy days). These are all potentially interesting effects, and you now have the tools to begin exploring them if you wish!\n",
    "\n",
    "At the end of the day, take the last step in the \"universal workflow of machine learning\" — \"You can train your final production model on all the available data (training and validation) and evaluate it one last time on the test set.\"\n",
    "\n",
    "See the [`GridSearchCV`](https://scikit-learn.org/stable/modules/generated/sklearn.model_selection.GridSearchCV.html) documentation for the `refit` parameter, `best_estimator_` attribute, and `predict` method:\n",
    "\n",
    "> **refit : boolean, or string, default=True**\n",
    "\n",
    "> Refit an estimator using the best found parameters on the whole dataset.\n",
    "\n",
    "> The refitted estimator is made available at the `best_estimator_` attribute and permits using `predict` directly on this `GridSearchCV` instance.\n",
    "\n",
    "### More options\n",
    "\n",
    "**A.** Apply this lesson to other datasets.\n",
    "\n",
    "**B.** We predicted the number of bicycle trips based on that day's weather. But imagine you were asked to predict trips at the beginning of each day, based only on data known at the time of prediction or before — so you cannot use the current day's weather. How would you wrangle the features to handle this new requirement? How does this impact the predictive accuracy and coefficients of your models?\n",
    "\n",
    "**C.** In additon to `GridSearchCV`, scikit-learn has [`RandomizedSearchCV`](https://scikit-learn.org/stable/modules/generated/sklearn.model_selection.RandomizedSearchCV.html), which is sometimes even better. Another library called scikit-optimize has [`BayesSearchCV`](https://scikit-optimize.github.io/notebooks/sklearn-gridsearchcv-replacement.html). Experiment with these alternatives.\n",
    "\n",
    "**D.** _[Introduction to Machine Learning with Python](http://shop.oreilly.com/product/0636920030515.do)_ discusses options for \"Grid-Searching Which Model To Use\" in Chapter 6:\n",
    "\n",
    "> You can even go further in combining GridSearchCV and Pipeline: it is also possible to search over the actual steps being performed in the pipeline (say whether to use StandardScaler or MinMaxScaler). This leads to an even bigger search space and should be considered carefully. Trying all possible solutions is usually not a viable machine learning strategy. However, here is an example comparing a RandomForestClassifier and an SVC ...\n",
    "\n",
    "The example is shown in [the accompanying notebook](https://github.com/amueller/introduction_to_ml_with_python/blob/master/06-algorithm-chains-and-pipelines.ipynb), code cells 35-37. Could you apply this concept to your own pipelines?\n",
    "\n",
    "\n"
   ]
  }
 ],
 "metadata": {
  "colab": {
   "collapsed_sections": [],
   "name": "LS_DS_243_Select_models_and_parameters.ipynb",
   "provenance": [],
   "version": "0.3.2"
  },
  "kernelspec": {
   "display_name": "Python 3",
   "language": "python",
   "name": "python3"
  },
  "language_info": {
   "codemirror_mode": {
    "name": "ipython",
    "version": 3
   },
   "file_extension": ".py",
   "mimetype": "text/x-python",
   "name": "python",
   "nbconvert_exporter": "python",
   "pygments_lexer": "ipython3",
   "version": "3.6.7"
  }
 },
 "nbformat": 4,
 "nbformat_minor": 1
}
