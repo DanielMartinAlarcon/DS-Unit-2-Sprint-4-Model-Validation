{
 "cells": [
  {
   "cell_type": "markdown",
   "metadata": {},
   "source": [
    "# Assignment\n",
    "I'm actually going to work with a new dataset that I've been meaning to parse.  It is mostly numerical, but it does contain one important categorical variable.  The objective is to find the variables that best predict the arsenic content in water samples from the city of Durango, Mexico.  I'm going to format this one for publication."
   ]
  },
  {
   "cell_type": "markdown",
   "metadata": {},
   "source": [
    "# Predictors of arsenic content in goundwater\n",
    "\\[Details about where the data came from\\]"
   ]
  },
  {
   "cell_type": "code",
   "execution_count": 126,
   "metadata": {},
   "outputs": [],
   "source": [
    "import pandas as pd\n",
    "import numpy as np\n",
    "import matplotlib.pyplot as plt\n",
    "import seaborn as sns\n",
    "from sklearn.metrics import mean_absolute_error\n",
    "from sklearn.metrics import r2_score\n",
    "from sklearn.metrics import accuracy_score\n",
    "from sklearn.preprocessing import StandardScaler\n",
    "from sklearn.pipeline import make_pipeline\n",
    "from sklearn.model_selection import cross_val_score\n",
    "from sklearn.model_selection import train_test_split\n",
    "from sklearn.linear_model import LinearRegression\n",
    "from sklearn.linear_model import Ridge\n",
    "pd.set_option('display.max_columns', None)  # Unlimited columns"
   ]
  },
  {
   "cell_type": "markdown",
   "metadata": {},
   "source": [
    "## Data cleanup"
   ]
  },
  {
   "cell_type": "code",
   "execution_count": 2,
   "metadata": {},
   "outputs": [],
   "source": [
    "df = pd.read_excel('RESULTADOS MUESTREO DURANGO GLOBAL FINAL 2018 REV1.xlsx',\n",
    "               sheet_name='Resultados Muestreo Durango')"
   ]
  },
  {
   "cell_type": "code",
   "execution_count": 3,
   "metadata": {},
   "outputs": [
    {
     "name": "stdout",
     "output_type": "stream",
     "text": [
      "(146, 22)\n"
     ]
    },
    {
     "data": {
      "text/html": [
       "<div>\n",
       "<style scoped>\n",
       "    .dataframe tbody tr th:only-of-type {\n",
       "        vertical-align: middle;\n",
       "    }\n",
       "\n",
       "    .dataframe tbody tr th {\n",
       "        vertical-align: top;\n",
       "    }\n",
       "\n",
       "    .dataframe thead th {\n",
       "        text-align: right;\n",
       "    }\n",
       "</style>\n",
       "<table border=\"1\" class=\"dataframe\">\n",
       "  <thead>\n",
       "    <tr style=\"text-align: right;\">\n",
       "      <th></th>\n",
       "      <th>Municipio</th>\n",
       "      <th>Localidad</th>\n",
       "      <th>Coordenadas</th>\n",
       "      <th>Unnamed: 3</th>\n",
       "      <th>Muestra</th>\n",
       "      <th>FECHA DE MUESTREO</th>\n",
       "      <th>pH</th>\n",
       "      <th>Conductividad (μs/cm)</th>\n",
       "      <th>As (μg/L)</th>\n",
       "      <th>Flúor (mg/L)</th>\n",
       "      <th>Na+ (mg/L)</th>\n",
       "      <th>K+    (mg/L)</th>\n",
       "      <th>Fe+ (mg/L)</th>\n",
       "      <th>Ca+ (mg/L)</th>\n",
       "      <th>Mg+ (mg/L)</th>\n",
       "      <th>NO3- (mg/L)</th>\n",
       "      <th>Cl- (mg/L)</th>\n",
       "      <th>CO3-2 (mg/L)</th>\n",
       "      <th>HCO3- (mg/L)</th>\n",
       "      <th>Alcalinidad total                (mg CaCO3/L)</th>\n",
       "      <th>SO4</th>\n",
       "      <th>Tipo de Agua</th>\n",
       "    </tr>\n",
       "  </thead>\n",
       "  <tbody>\n",
       "    <tr>\n",
       "      <th>0</th>\n",
       "      <td>NaN</td>\n",
       "      <td>NaN</td>\n",
       "      <td>Longitud</td>\n",
       "      <td>Latitud</td>\n",
       "      <td>NaN</td>\n",
       "      <td>NaT</td>\n",
       "      <td>NaN</td>\n",
       "      <td>NaN</td>\n",
       "      <td>NaN</td>\n",
       "      <td>NaN</td>\n",
       "      <td>NaN</td>\n",
       "      <td>NaN</td>\n",
       "      <td>NaN</td>\n",
       "      <td>NaN</td>\n",
       "      <td>NaN</td>\n",
       "      <td>NaN</td>\n",
       "      <td>NaN</td>\n",
       "      <td>NaN</td>\n",
       "      <td>NaN</td>\n",
       "      <td>NaN</td>\n",
       "      <td>NaN</td>\n",
       "      <td>NaN</td>\n",
       "    </tr>\n",
       "    <tr>\n",
       "      <th>1</th>\n",
       "      <td>Durango</td>\n",
       "      <td>El Nayar</td>\n",
       "      <td>-104.695</td>\n",
       "      <td>23.9629</td>\n",
       "      <td>60.0</td>\n",
       "      <td>2017-08-08</td>\n",
       "      <td>8.140</td>\n",
       "      <td>337.0</td>\n",
       "      <td>61.5</td>\n",
       "      <td>3.15</td>\n",
       "      <td>40.9220</td>\n",
       "      <td>1.4075</td>\n",
       "      <td>0.007</td>\n",
       "      <td>15.0015</td>\n",
       "      <td>0.2675</td>\n",
       "      <td>3.25</td>\n",
       "      <td>4.140</td>\n",
       "      <td>0.0</td>\n",
       "      <td>97.0</td>\n",
       "      <td>97.0</td>\n",
       "      <td>70.615</td>\n",
       "      <td>BICARBONATADA SODICA</td>\n",
       "    </tr>\n",
       "    <tr>\n",
       "      <th>2</th>\n",
       "      <td>Durango</td>\n",
       "      <td>Sebastián Lerdo de Tejada</td>\n",
       "      <td>-104.64</td>\n",
       "      <td>23.9572</td>\n",
       "      <td>61.0</td>\n",
       "      <td>2017-08-08</td>\n",
       "      <td>8.110</td>\n",
       "      <td>406.0</td>\n",
       "      <td>38.5</td>\n",
       "      <td>2.60</td>\n",
       "      <td>45.8850</td>\n",
       "      <td>0.6100</td>\n",
       "      <td>NaN</td>\n",
       "      <td>20.1530</td>\n",
       "      <td>0.0645</td>\n",
       "      <td>2.10</td>\n",
       "      <td>2.040</td>\n",
       "      <td>0.0</td>\n",
       "      <td>122.0</td>\n",
       "      <td>122.0</td>\n",
       "      <td>79.445</td>\n",
       "      <td>BICARBONATADA SODICA</td>\n",
       "    </tr>\n",
       "    <tr>\n",
       "      <th>3</th>\n",
       "      <td>Durango</td>\n",
       "      <td>Felipe Ángeles</td>\n",
       "      <td>-104.557</td>\n",
       "      <td>23.9351</td>\n",
       "      <td>62.0</td>\n",
       "      <td>2017-08-08</td>\n",
       "      <td>8.375</td>\n",
       "      <td>384.1</td>\n",
       "      <td>26.5</td>\n",
       "      <td>1.40</td>\n",
       "      <td>38.5360</td>\n",
       "      <td>6.3665</td>\n",
       "      <td>NaN</td>\n",
       "      <td>21.8090</td>\n",
       "      <td>1.1890</td>\n",
       "      <td>1.35</td>\n",
       "      <td>2.325</td>\n",
       "      <td>0.0</td>\n",
       "      <td>140.0</td>\n",
       "      <td>140.0</td>\n",
       "      <td>53.730</td>\n",
       "      <td>BICARBONATADA SODICA</td>\n",
       "    </tr>\n",
       "    <tr>\n",
       "      <th>4</th>\n",
       "      <td>Durango</td>\n",
       "      <td>Villa Montemorelos</td>\n",
       "      <td>-104.482</td>\n",
       "      <td>23.9918</td>\n",
       "      <td>63.0</td>\n",
       "      <td>2017-08-08</td>\n",
       "      <td>8.500</td>\n",
       "      <td>557.5</td>\n",
       "      <td>23.5</td>\n",
       "      <td>1.20</td>\n",
       "      <td>31.6805</td>\n",
       "      <td>6.7350</td>\n",
       "      <td>NaN</td>\n",
       "      <td>32.8330</td>\n",
       "      <td>6.5825</td>\n",
       "      <td>4.40</td>\n",
       "      <td>4.680</td>\n",
       "      <td>0.0</td>\n",
       "      <td>206.5</td>\n",
       "      <td>206.5</td>\n",
       "      <td>60.245</td>\n",
       "      <td>BICARBONATADA CALCICA Y/O MAGNESICA</td>\n",
       "    </tr>\n",
       "  </tbody>\n",
       "</table>\n",
       "</div>"
      ],
      "text/plain": [
       "  Municipio                  Localidad Coordenadas Unnamed: 3  Muestra  \\\n",
       "0       NaN                        NaN    Longitud    Latitud      NaN   \n",
       "1   Durango                   El Nayar    -104.695    23.9629     60.0   \n",
       "2   Durango  Sebastián Lerdo de Tejada     -104.64    23.9572     61.0   \n",
       "3   Durango             Felipe Ángeles    -104.557    23.9351     62.0   \n",
       "4   Durango         Villa Montemorelos    -104.482    23.9918     63.0   \n",
       "\n",
       "  FECHA DE MUESTREO      pH  Conductividad (μs/cm)  As (μg/L)  Flúor (mg/L)  \\\n",
       "0                NaT    NaN                    NaN        NaN           NaN   \n",
       "1         2017-08-08  8.140                  337.0       61.5          3.15   \n",
       "2         2017-08-08  8.110                  406.0       38.5          2.60   \n",
       "3         2017-08-08  8.375                  384.1       26.5          1.40   \n",
       "4         2017-08-08  8.500                  557.5       23.5          1.20   \n",
       "\n",
       "   Na+ (mg/L)  K+    (mg/L) Fe+ (mg/L)  Ca+ (mg/L)  Mg+ (mg/L)  NO3- (mg/L)  \\\n",
       "0         NaN           NaN        NaN         NaN         NaN          NaN   \n",
       "1     40.9220        1.4075      0.007     15.0015      0.2675         3.25   \n",
       "2     45.8850        0.6100        NaN     20.1530      0.0645         2.10   \n",
       "3     38.5360        6.3665        NaN     21.8090      1.1890         1.35   \n",
       "4     31.6805        6.7350        NaN     32.8330      6.5825         4.40   \n",
       "\n",
       "   Cl- (mg/L)   CO3-2 (mg/L)  HCO3- (mg/L)  \\\n",
       "0         NaN            NaN           NaN   \n",
       "1       4.140            0.0          97.0   \n",
       "2       2.040            0.0         122.0   \n",
       "3       2.325            0.0         140.0   \n",
       "4       4.680            0.0         206.5   \n",
       "\n",
       "   Alcalinidad total                (mg CaCO3/L)     SO4  \\\n",
       "0                                            NaN     NaN   \n",
       "1                                           97.0  70.615   \n",
       "2                                          122.0  79.445   \n",
       "3                                          140.0  53.730   \n",
       "4                                          206.5  60.245   \n",
       "\n",
       "                          Tipo de Agua  \n",
       "0                                  NaN  \n",
       "1                 BICARBONATADA SODICA  \n",
       "2                 BICARBONATADA SODICA  \n",
       "3                 BICARBONATADA SODICA  \n",
       "4  BICARBONATADA CALCICA Y/O MAGNESICA  "
      ]
     },
     "execution_count": 3,
     "metadata": {},
     "output_type": "execute_result"
    }
   ],
   "source": [
    "# Initial state of the dataframe\n",
    "print(df.shape)\n",
    "df.head()"
   ]
  },
  {
   "cell_type": "code",
   "execution_count": 10,
   "metadata": {},
   "outputs": [],
   "source": [
    "# I rename all columns with simpler English names\n",
    "df2 = df.rename(\n",
    "    {'Municipio':'municipality',\n",
    "     'Localidad':'town',\n",
    "     'Coordenadas':'longitude',\n",
    "     'Unnamed: 3':'latitude',\n",
    "     'Muestra':'id',\n",
    "     'FECHA DE MUESTREO ':'sampling_date',\n",
    "     'pH':'pH',\n",
    "     'Conductividad (μs/cm)':'conductivity',\n",
    "     'As (μg/L)':'As',\n",
    "     'Flúor (mg/L)':'F',\n",
    "     'Na+ (mg/L)':'Na',\n",
    "     'K+    (mg/L)':'K',\n",
    "     'Fe+ (mg/L)':'Fe',\n",
    "     'Ca+ (mg/L)':'Ca',\n",
    "     'Mg+ (mg/L)':'Mg',\n",
    "     'NO3- (mg/L)':'nitrate',\n",
    "     'Cl- (mg/L)':'Cl',\n",
    "     ' CO3-2 (mg/L)':'carbonate',\n",
    "     'HCO3- (mg/L)':'bicarbonate',\n",
    "     'Alcalinidad total                (mg CaCO3/L)':'total_alcalinity',\n",
    "     'SO4':'sulfate',\n",
    "     'Tipo de Agua':'water_type'}, axis='columns')\n",
    "\n",
    "# The first row is garbage\n",
    "df2 = df2.drop(index=0)\n",
    "\n",
    "# The id column shouldn't have any predictive power\n",
    "df2 = df2.drop(columns='id')\n",
    "\n",
    "# The column for iron (Fe) is the only one with null values, and has 128/146. \n",
    "# Probably not worth fixing, so I'll drop it.\n",
    "df2 = df2.drop(columns='Fe')\n",
    "\n",
    "# I assume that the sampling date is not important.\n",
    "df2 = df2.drop(columns='sampling_date')\n",
    "\n",
    "# I counted the null values in latitude/longitude.\n",
    "# Only three rows are missing their values, so I'll manually assign\n",
    "# them coordinates for the corresponding towns (from Google Maps).\n",
    "df2.at[62,'longitude'] = -104.703473\n",
    "df2.at[62,'latitude'] = 24.024753\n",
    "\n",
    "df2.at[53,'longitude'] = -105.555699\n",
    "df2.at[53,'latitude'] = 25.461704\n",
    "\n",
    "df2.at[73,'longitude'] = -104.643166\n",
    "df2.at[73,'latitude'] = 24.041459\n",
    "\n",
    "# Those two columns also need to be converted into number type\n",
    "df2.latitude = df2.latitude.astype('float64')\n",
    "df2.longitude = df2.longitude.astype('float64')\n",
    "\n",
    "# I'll also reorder the columns a bit\n",
    "df2 = df2[['As', # Dependent variable first\n",
    " 'pH',\n",
    " 'conductivity',\n",
    " 'F',\n",
    " 'Na',\n",
    " 'K',\n",
    " 'Ca',\n",
    " 'Mg',\n",
    " 'nitrate',\n",
    " 'Cl',\n",
    " 'carbonate',\n",
    " 'bicarbonate',\n",
    " 'total_alcalinity',\n",
    " 'sulfate',\n",
    " 'latitude',\n",
    " 'longitude',\n",
    " 'water_type', # Categorical features last\n",
    " 'municipality',\n",
    " 'town',\n",
    "]]"
   ]
  },
  {
   "cell_type": "code",
   "execution_count": 11,
   "metadata": {},
   "outputs": [
    {
     "data": {
      "text/plain": [
       "As                  float64\n",
       "pH                  float64\n",
       "conductivity        float64\n",
       "F                   float64\n",
       "Na                  float64\n",
       "K                   float64\n",
       "Ca                  float64\n",
       "Mg                  float64\n",
       "nitrate             float64\n",
       "Cl                  float64\n",
       "carbonate           float64\n",
       "bicarbonate         float64\n",
       "total_alcalinity    float64\n",
       "sulfate             float64\n",
       "latitude            float64\n",
       "longitude           float64\n",
       "water_type           object\n",
       "municipality         object\n",
       "town                 object\n",
       "dtype: object"
      ]
     },
     "execution_count": 11,
     "metadata": {},
     "output_type": "execute_result"
    }
   ],
   "source": [
    "# Confirming correct data types\n",
    "df2.dtypes"
   ]
  },
  {
   "cell_type": "code",
   "execution_count": 12,
   "metadata": {},
   "outputs": [
    {
     "data": {
      "text/plain": [
       "As                  0\n",
       "pH                  0\n",
       "conductivity        0\n",
       "F                   0\n",
       "Na                  0\n",
       "K                   0\n",
       "Ca                  0\n",
       "Mg                  0\n",
       "nitrate             0\n",
       "Cl                  0\n",
       "carbonate           0\n",
       "bicarbonate         0\n",
       "total_alcalinity    0\n",
       "sulfate             0\n",
       "latitude            0\n",
       "longitude           0\n",
       "water_type          0\n",
       "municipality        0\n",
       "town                0\n",
       "dtype: int64"
      ]
     },
     "execution_count": 12,
     "metadata": {},
     "output_type": "execute_result"
    }
   ],
   "source": [
    "# Confirming absence of nulls\n",
    "df2.isnull().sum()"
   ]
  },
  {
   "cell_type": "code",
   "execution_count": 32,
   "metadata": {},
   "outputs": [
    {
     "name": "stdout",
     "output_type": "stream",
     "text": [
      "(145, 19)\n"
     ]
    },
    {
     "data": {
      "text/html": [
       "<div>\n",
       "<style scoped>\n",
       "    .dataframe tbody tr th:only-of-type {\n",
       "        vertical-align: middle;\n",
       "    }\n",
       "\n",
       "    .dataframe tbody tr th {\n",
       "        vertical-align: top;\n",
       "    }\n",
       "\n",
       "    .dataframe thead th {\n",
       "        text-align: right;\n",
       "    }\n",
       "</style>\n",
       "<table border=\"1\" class=\"dataframe\">\n",
       "  <thead>\n",
       "    <tr style=\"text-align: right;\">\n",
       "      <th></th>\n",
       "      <th>As</th>\n",
       "      <th>pH</th>\n",
       "      <th>conductivity</th>\n",
       "      <th>F</th>\n",
       "      <th>Na</th>\n",
       "      <th>K</th>\n",
       "      <th>Ca</th>\n",
       "      <th>Mg</th>\n",
       "      <th>nitrate</th>\n",
       "      <th>Cl</th>\n",
       "      <th>carbonate</th>\n",
       "      <th>bicarbonate</th>\n",
       "      <th>total_alcalinity</th>\n",
       "      <th>sulfate</th>\n",
       "      <th>latitude</th>\n",
       "      <th>longitude</th>\n",
       "      <th>water_type</th>\n",
       "      <th>municipality</th>\n",
       "      <th>town</th>\n",
       "    </tr>\n",
       "  </thead>\n",
       "  <tbody>\n",
       "    <tr>\n",
       "      <th>1</th>\n",
       "      <td>61.5</td>\n",
       "      <td>8.140</td>\n",
       "      <td>337.0</td>\n",
       "      <td>3.15</td>\n",
       "      <td>40.9220</td>\n",
       "      <td>1.4075</td>\n",
       "      <td>15.0015</td>\n",
       "      <td>0.2675</td>\n",
       "      <td>3.25</td>\n",
       "      <td>4.140</td>\n",
       "      <td>0.0</td>\n",
       "      <td>97.0</td>\n",
       "      <td>97.0</td>\n",
       "      <td>70.615</td>\n",
       "      <td>23.96292</td>\n",
       "      <td>-104.69545</td>\n",
       "      <td>BICARBONATADA SODICA</td>\n",
       "      <td>Durango</td>\n",
       "      <td>El Nayar</td>\n",
       "    </tr>\n",
       "    <tr>\n",
       "      <th>2</th>\n",
       "      <td>38.5</td>\n",
       "      <td>8.110</td>\n",
       "      <td>406.0</td>\n",
       "      <td>2.60</td>\n",
       "      <td>45.8850</td>\n",
       "      <td>0.6100</td>\n",
       "      <td>20.1530</td>\n",
       "      <td>0.0645</td>\n",
       "      <td>2.10</td>\n",
       "      <td>2.040</td>\n",
       "      <td>0.0</td>\n",
       "      <td>122.0</td>\n",
       "      <td>122.0</td>\n",
       "      <td>79.445</td>\n",
       "      <td>23.95718</td>\n",
       "      <td>-104.64026</td>\n",
       "      <td>BICARBONATADA SODICA</td>\n",
       "      <td>Durango</td>\n",
       "      <td>Sebastián Lerdo de Tejada</td>\n",
       "    </tr>\n",
       "    <tr>\n",
       "      <th>3</th>\n",
       "      <td>26.5</td>\n",
       "      <td>8.375</td>\n",
       "      <td>384.1</td>\n",
       "      <td>1.40</td>\n",
       "      <td>38.5360</td>\n",
       "      <td>6.3665</td>\n",
       "      <td>21.8090</td>\n",
       "      <td>1.1890</td>\n",
       "      <td>1.35</td>\n",
       "      <td>2.325</td>\n",
       "      <td>0.0</td>\n",
       "      <td>140.0</td>\n",
       "      <td>140.0</td>\n",
       "      <td>53.730</td>\n",
       "      <td>23.93505</td>\n",
       "      <td>-104.55661</td>\n",
       "      <td>BICARBONATADA SODICA</td>\n",
       "      <td>Durango</td>\n",
       "      <td>Felipe Ángeles</td>\n",
       "    </tr>\n",
       "    <tr>\n",
       "      <th>4</th>\n",
       "      <td>23.5</td>\n",
       "      <td>8.500</td>\n",
       "      <td>557.5</td>\n",
       "      <td>1.20</td>\n",
       "      <td>31.6805</td>\n",
       "      <td>6.7350</td>\n",
       "      <td>32.8330</td>\n",
       "      <td>6.5825</td>\n",
       "      <td>4.40</td>\n",
       "      <td>4.680</td>\n",
       "      <td>0.0</td>\n",
       "      <td>206.5</td>\n",
       "      <td>206.5</td>\n",
       "      <td>60.245</td>\n",
       "      <td>23.99177</td>\n",
       "      <td>-104.48167</td>\n",
       "      <td>BICARBONATADA CALCICA Y/O MAGNESICA</td>\n",
       "      <td>Durango</td>\n",
       "      <td>Villa Montemorelos</td>\n",
       "    </tr>\n",
       "    <tr>\n",
       "      <th>5</th>\n",
       "      <td>97.5</td>\n",
       "      <td>8.330</td>\n",
       "      <td>326.1</td>\n",
       "      <td>5.95</td>\n",
       "      <td>45.6745</td>\n",
       "      <td>1.6525</td>\n",
       "      <td>8.5190</td>\n",
       "      <td>0.2100</td>\n",
       "      <td>0.52</td>\n",
       "      <td>5.390</td>\n",
       "      <td>0.0</td>\n",
       "      <td>83.0</td>\n",
       "      <td>83.0</td>\n",
       "      <td>59.880</td>\n",
       "      <td>24.02664</td>\n",
       "      <td>-104.50855</td>\n",
       "      <td>BICARBONATADA SODICA</td>\n",
       "      <td>Durango</td>\n",
       "      <td>Belisario Domínguez</td>\n",
       "    </tr>\n",
       "  </tbody>\n",
       "</table>\n",
       "</div>"
      ],
      "text/plain": [
       "     As     pH  conductivity     F       Na       K       Ca      Mg  nitrate  \\\n",
       "1  61.5  8.140         337.0  3.15  40.9220  1.4075  15.0015  0.2675     3.25   \n",
       "2  38.5  8.110         406.0  2.60  45.8850  0.6100  20.1530  0.0645     2.10   \n",
       "3  26.5  8.375         384.1  1.40  38.5360  6.3665  21.8090  1.1890     1.35   \n",
       "4  23.5  8.500         557.5  1.20  31.6805  6.7350  32.8330  6.5825     4.40   \n",
       "5  97.5  8.330         326.1  5.95  45.6745  1.6525   8.5190  0.2100     0.52   \n",
       "\n",
       "      Cl  carbonate  bicarbonate  total_alcalinity  sulfate  latitude  \\\n",
       "1  4.140        0.0         97.0              97.0   70.615  23.96292   \n",
       "2  2.040        0.0        122.0             122.0   79.445  23.95718   \n",
       "3  2.325        0.0        140.0             140.0   53.730  23.93505   \n",
       "4  4.680        0.0        206.5             206.5   60.245  23.99177   \n",
       "5  5.390        0.0         83.0              83.0   59.880  24.02664   \n",
       "\n",
       "   longitude                           water_type municipality  \\\n",
       "1 -104.69545                 BICARBONATADA SODICA      Durango   \n",
       "2 -104.64026                 BICARBONATADA SODICA      Durango   \n",
       "3 -104.55661                 BICARBONATADA SODICA      Durango   \n",
       "4 -104.48167  BICARBONATADA CALCICA Y/O MAGNESICA      Durango   \n",
       "5 -104.50855                 BICARBONATADA SODICA      Durango   \n",
       "\n",
       "                        town  \n",
       "1                   El Nayar  \n",
       "2  Sebastián Lerdo de Tejada  \n",
       "3             Felipe Ángeles  \n",
       "4         Villa Montemorelos  \n",
       "5        Belisario Domínguez  "
      ]
     },
     "execution_count": 32,
     "metadata": {},
     "output_type": "execute_result"
    }
   ],
   "source": [
    "# Brief look at the clean dataframe\n",
    "print(df2.shape)\n",
    "df2.head()"
   ]
  },
  {
   "cell_type": "markdown",
   "metadata": {},
   "source": [
    "## Training/validation/test sets\n",
    "It's important to use different datasets for all three functions, so I'll create those datasets now."
   ]
  },
  {
   "cell_type": "code",
   "execution_count": 30,
   "metadata": {},
   "outputs": [],
   "source": [
    "# Since sklearn dosn't have a tool for creating a validation dataset,\n",
    "# I'll write one myself\n",
    "\n",
    "def train_validation_test_split(\n",
    "    X, y, train_size=0.8, val_size=0.1, test_size=0.1, \n",
    "    random_state=None, shuffle=True):\n",
    "    \n",
    "    # Ensure set sizes add up to 1\n",
    "    assert (train_size + val_size + test_size == 1), \"The sizes of the datasets must add up to 1!\"\n",
    "    \n",
    "    # Divide data into 'test' and leftovers\n",
    "    X_leftovers, X_test, y_leftovers, y_test = train_test_split(\n",
    "    X, y, test_size=test_size, \n",
    "    random_state=random_state, shuffle=shuffle)\n",
    "    \n",
    "    # Divide leftovers into 'train' and 'validate'\n",
    "    X_train, X_validate, y_train, y_validate = train_test_split(\n",
    "    X, y, train_size=(train_size / (train_size + val_size)),\n",
    "    random_state=random_state, shuffle=shuffle)\n",
    "    \n",
    "    # Print out the shapes of the datasets, to confirm that they're\n",
    "    # what we expect\n",
    "    \n",
    "    print(f'X_train   : {X_train.shape}')\n",
    "    print(f'X_validate: {X_validate.shape}')\n",
    "    print(f'X_test    : {X_test.shape}')\n",
    "    print()\n",
    "    print(f'y_train   : {y_train.shape}')\n",
    "    print(f'y_validate: {y_validate.shape}')\n",
    "    print(f'y_test    : {y_test.shape}')\n",
    "    \n",
    "    return X_train, X_validate, X_test, y_train, y_validate, y_test"
   ]
  },
  {
   "cell_type": "code",
   "execution_count": 31,
   "metadata": {},
   "outputs": [
    {
     "name": "stdout",
     "output_type": "stream",
     "text": [
      "X_train   : (128, 18)\n",
      "X_validate: (17, 18)\n",
      "X_test    : (15, 18)\n",
      "\n",
      "y_train   : (128,)\n",
      "y_validate: (17,)\n",
      "y_test    : (15,)\n"
     ]
    }
   ],
   "source": [
    "X = df2.drop(columns='As')\n",
    "y = df2['As']\n",
    "X_train, X_validate, X_test, y_train, y_validate, y_test = train_validation_test_split(X, y, random_state=42)"
   ]
  },
  {
   "cell_type": "markdown",
   "metadata": {},
   "source": [
    "I'll store `X_test` and `y_test` for later, and carry out all further training and validation with the other datasets only."
   ]
  },
  {
   "cell_type": "markdown",
   "metadata": {},
   "source": [
    "## Data Exploration\n",
    "Let's take a quick look at what Arsenic levels are present in our training data."
   ]
  },
  {
   "cell_type": "code",
   "execution_count": 71,
   "metadata": {},
   "outputs": [
    {
     "data": {
      "image/png": "[encoded data removed]",
      "text/plain": [
       "<Figure size 432x288 with 1 Axes>"
      ]
     },
     "metadata": {},
     "output_type": "display_data"
    }
   ],
   "source": [
    "fig, ax = plt.subplots()\n",
    "ax = sns.distplot(y_train, norm_hist=False, kde=False);\n",
    "ax.set_xlabel('Arsenic concentration (µg/L)', fontsize=14)\n",
    "ax.set_ylabel('Number of samples with this value', fontsize=14)\n",
    "plt.axvline(x=35, color='r', linestyle='--', label='Mean');\n",
    "plt.legend();\n",
    "plt.title('Histogram: Arsenic in the training data', fontsize=16);"
   ]
  },
  {
   "cell_type": "code",
   "execution_count": 74,
   "metadata": {},
   "outputs": [
    {
     "data": {
      "text/plain": [
       "35.54412444835938"
      ]
     },
     "execution_count": 74,
     "metadata": {},
     "output_type": "execute_result"
    }
   ],
   "source": [
    "# And the mean value is..\n",
    "np.mean(y_train)"
   ]
  },
  {
   "cell_type": "markdown",
   "metadata": {},
   "source": [
    "## Model fitting"
   ]
  },
  {
   "cell_type": "code",
   "execution_count": 107,
   "metadata": {},
   "outputs": [],
   "source": [
    "def score_predictions(y_validate, y_pred):\n",
    "    MAE = mean_absolute_error(y_validate, y_pred)\n",
    "    r2 = r2_score(y_validate, y_pred)\n",
    "\n",
    "    print(f'Mean Absolute Error: {MAE}')\n",
    "    print(f'R^2 score          : {r2}')"
   ]
  },
  {
   "cell_type": "markdown",
   "metadata": {},
   "source": [
    "### Baseline\n",
    "I'll start with the simplest possible model: assuming that all wells have an arsenic concentration equal to the mean of the training set.  This will provide a baseline score that I can use to judge more complex models."
   ]
  },
  {
   "cell_type": "code",
   "execution_count": 108,
   "metadata": {},
   "outputs": [
    {
     "name": "stdout",
     "output_type": "stream",
     "text": [
      "Mean Absolute Error: 16.924207666677393\n",
      "R^2 score          : -0.03390469712098998\n"
     ]
    }
   ],
   "source": [
    "y_pred = [np.mean(y_train)] * len(y_validate)\n",
    "score_predictions(y_validate, y_pred)"
   ]
  },
  {
   "cell_type": "markdown",
   "metadata": {},
   "source": [
    "## Linear Regression fit to water quality\n",
    "First, I'll use only the numerical features related to water quality (measurements of pH, conductivity, and ions)."
   ]
  },
  {
   "cell_type": "code",
   "execution_count": 109,
   "metadata": {},
   "outputs": [
    {
     "name": "stdout",
     "output_type": "stream",
     "text": [
      "Mean Absolute Error: 18.54967873285495\n",
      "R^2 score          : 0.06798212500385581\n"
     ]
    }
   ],
   "source": [
    "X_train_ions = X_train.drop(columns=['latitude','longitude','water_type','municipality','town'])\n",
    "X_validate_ions = X_validate.drop(columns=['latitude','longitude','water_type','municipality','town'])\n",
    "\n",
    "model = LinearRegression()\n",
    "model.fit(X_train_ions, y_train)\n",
    "y_pred = model.predict(X_validate_ions)\n",
    "score_predictions(y_validate, y_pred)"
   ]
  },
  {
   "cell_type": "markdown",
   "metadata": {},
   "source": [
    "Well that's embarrassing.  The MAE actually went *up*, and the R^2 score is still really low."
   ]
  },
  {
   "cell_type": "code",
   "execution_count": 125,
   "metadata": {},
   "outputs": [
    {
     "data": {
      "text/plain": [
       "0.403680544767595"
      ]
     },
     "execution_count": 125,
     "metadata": {},
     "output_type": "execute_result"
    }
   ],
   "source": [
    "# Note that the R^2 score is actually much highe than 0.067 for the\n",
    "# training set.  Which shows the importance of good validation.\n",
    "model.score(X_train_ions, y_train)"
   ]
  },
  {
   "cell_type": "code",
   "execution_count": 118,
   "metadata": {},
   "outputs": [
    {
     "data": {
      "image/png": "[encoded data removed]",
      "text/plain": [
       "<Figure size 432x288 with 1 Axes>"
      ]
     },
     "metadata": {},
     "output_type": "display_data"
    }
   ],
   "source": [
    "# What coefficients are the most important?\n",
    "plt.figure()\n",
    "plt.title('Coefficients that determined this model', fontsize=16)\n",
    "\n",
    "coefficients = model.coef_\n",
    "feature_names = X_validate_ions.columns\n",
    "pd.Series(coefficients, feature_names).sort_values().plot.barh(color='gray');"
   ]
  },
  {
   "cell_type": "markdown",
   "metadata": {},
   "source": [
    "### Ridge regression to water quality\n",
    "I suspect that a problem here is that we have too many variables and not enough data points. Ridge Regression should be better able than linear regression to deal with potentially under-determined models.  I'll try this one before making the problem worse by adding more variables."
   ]
  },
  {
   "cell_type": "code",
   "execution_count": 127,
   "metadata": {},
   "outputs": [
    {
     "name": "stdout",
     "output_type": "stream",
     "text": [
      "Mean Absolute Error: 18.635063711500692\n",
      "R^2 score          : 0.050546715675336196\n"
     ]
    }
   ],
   "source": [
    "X_train_ions = X_train.drop(columns=['latitude','longitude','water_type','municipality','town'])\n",
    "X_validate_ions = X_validate.drop(columns=['latitude','longitude','water_type','municipality','town'])\n",
    "\n",
    "model = Ridge()\n",
    "model.fit(X_train_ions, y_train)\n",
    "y_pred = model.predict(X_validate_ions)\n",
    "score_predictions(y_validate, y_pred)"
   ]
  },
  {
   "cell_type": "markdown",
   "metadata": {},
   "source": [
    "Even worse?!  "
   ]
  },
  {
   "cell_type": "code",
   "execution_count": 128,
   "metadata": {},
   "outputs": [
    {
     "data": {
      "text/plain": [
       "0.4034333736061585"
      ]
     },
     "execution_count": 128,
     "metadata": {},
     "output_type": "execute_result"
    }
   ],
   "source": [
    "# Similar performance to Linear Regression on the training data\n",
    "model.score(X_train_ions, y_train)"
   ]
  },
  {
   "cell_type": "code",
   "execution_count": 129,
   "metadata": {},
   "outputs": [
    {
     "data": {
      "image/png": "[encoded data removed]",
      "text/plain": [
       "<Figure size 432x288 with 1 Axes>"
      ]
     },
     "metadata": {},
     "output_type": "display_data"
    }
   ],
   "source": [
    "# And the coefficients have basically the same values.\n",
    "plt.figure()\n",
    "plt.title('Coefficients that determined this model', fontsize=16)\n",
    "\n",
    "coefficients = model.coef_\n",
    "feature_names = X_validate_ions.columns\n",
    "pd.Series(coefficients, feature_names).sort_values().plot.barh(color='gray');"
   ]
  },
  {
   "cell_type": "code",
   "execution_count": null,
   "metadata": {},
   "outputs": [],
   "source": []
  }
 ],
 "metadata": {
  "kernelspec": {
   "display_name": "Python 3",
   "language": "python",
   "name": "python3"
  },
  "language_info": {
   "codemirror_mode": {
    "name": "ipython",
    "version": 3
   },
   "file_extension": ".py",
   "mimetype": "text/x-python",
   "name": "python",
   "nbconvert_exporter": "python",
   "pygments_lexer": "ipython3",
   "version": "3.7.1"
  }
 },
 "nbformat": 4,
 "nbformat_minor": 2
}
